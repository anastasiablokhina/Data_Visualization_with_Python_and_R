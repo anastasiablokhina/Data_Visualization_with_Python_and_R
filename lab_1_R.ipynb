{
  "nbformat": 4,
  "nbformat_minor": 0,
  "metadata": {
    "colab": {
      "name": "lab_1_R",
      "provenance": [],
      "collapsed_sections": [],
      "include_colab_link": true
    },
    "kernelspec": {
      "name": "ir",
      "display_name": "R"
    },
    "language_info": {
      "name": "R"
    }
  },
  "cells": [
    {
      "cell_type": "markdown",
      "metadata": {
        "id": "view-in-github",
        "colab_type": "text"
      },
      "source": [
        "<a href=\"https://colab.research.google.com/github/anastasiablokhina/Data_Visualization_with_Python_and_R/blob/main/lab_1_R.ipynb\" target=\"_parent\"><img src=\"https://colab.research.google.com/assets/colab-badge.svg\" alt=\"Open In Colab\"/></a>"
      ]
    },
    {
      "cell_type": "markdown",
      "source": [
        "Для выполнения заданий возьмите данные из папки [data](https://drive.google.com/drive/folders/17E4vB5kWr5FNjLKRU4XGoJSVTxn1jkg4?usp=sharing) о продажах. Данные распределены по 4 папкам:\n",
        "* sales_train.csv - данные о продажах с января 2013 по октябрь 2015.\n",
        "** date - дата продажы\n",
        "** date_block_num - номер месяца по порядку следования\n",
        "** shop_id - идентификатор магазина\n",
        "** item_id - идентификатор товара\n",
        "** item_price - цена товара\n",
        "** item_cnt_day - количество проданного товара одного вида в день\n",
        "\n",
        "* items.csv - подробная информация о товарах\n",
        "** item_id - идентификатор товара\n",
        "** item_name - название товара\n",
        "** category_id - идентификатор категории товара\n",
        "\n",
        "* item_categories.csv - подробная информация о категориях товаров\n",
        "** item_category_id - идентификатор категории товара\n",
        "** category_name - название категории товара\n",
        "\n",
        "* shops.csv - подробная информация о магазинах\n",
        "** shop_id - идентификатор магазина\n",
        "** shop_name - название магазина\n"
      ],
      "metadata": {
        "id": "gXG3QdhVLmkk"
      }
    },
    {
      "cell_type": "markdown",
      "source": [
        "# Задание 1"
      ],
      "metadata": {
        "id": "X5oEdrHBJ9t8"
      }
    },
    {
      "cell_type": "markdown",
      "source": [
        "1. Найдите топ-10 самых часто покупаемых товаров (не забудьте учесть столбец item_cnt_day).\n",
        "2. Оставьте только те из них, которые покупали все три года (2013, 2014, 2015)."
      ],
      "metadata": {
        "id": "8tjm8ZhmKCDv"
      }
    },
    {
      "cell_type": "markdown",
      "source": [
        "Выполнение пункта 1"
      ],
      "metadata": {
        "id": "Hctr4Xp2-kqo"
      }
    },
    {
      "cell_type": "code",
      "source": [
        "sales_train <- read.csv('/content/sales_train.csv')\n",
        "items <- read.csv('/content/items.csv')\n",
        "item_categories <- read.csv('/content/item_categories.csv')\n",
        "shops <- read.csv('/content/shops.csv')\n",
        "library(dplyr)\n",
        "library(data.table)"
      ],
      "metadata": {
        "id": "fIIOfPpaY773"
      },
      "execution_count": null,
      "outputs": []
    },
    {
      "cell_type": "code",
      "source": [
        "sales_train_merged <- merge(sales_train, items, by=\"item_id\")\n",
        "result <- sales_train_merged %>%\n",
        "  group_by(item_id, item_name) %>%\n",
        "  summarise(item_cnt_day = sum(item_cnt_day))\n",
        "task_1 <- head(result[order(result$item_cnt_day, decreasing=TRUE),], n=10)\n",
        "task_1"
      ],
      "metadata": {
        "colab": {
          "base_uri": "https://localhost:8080/",
          "height": 446
        },
        "id": "n-FljrBGbASB",
        "outputId": "c3ac8915-a965-436d-da8a-fa476ec38f15"
      },
      "execution_count": null,
      "outputs": [
        {
          "output_type": "stream",
          "name": "stderr",
          "text": [
            "\u001b[1m\u001b[22m`summarise()` has grouped output by 'item_id'. You can override using the\n",
            "`.groups` argument.\n"
          ]
        },
        {
          "output_type": "display_data",
          "data": {
            "text/html": [
              "<table class=\"dataframe\">\n",
              "<caption>A grouped_df: 10 × 3</caption>\n",
              "<thead>\n",
              "\t<tr><th scope=col>item_id</th><th scope=col>item_name</th><th scope=col>item_cnt_day</th></tr>\n",
              "\t<tr><th scope=col>&lt;int&gt;</th><th scope=col>&lt;chr&gt;</th><th scope=col>&lt;dbl&gt;</th></tr>\n",
              "</thead>\n",
              "<tbody>\n",
              "\t<tr><td>20949</td><td>Corporate package T-shirt 1C Interest white (34 * 42) 45 microns    </td><td>187642</td></tr>\n",
              "\t<tr><td> 2808</td><td>Diablo III [PC, Jewel, Russian version]                             </td><td> 17245</td></tr>\n",
              "\t<tr><td> 3732</td><td>Grand Theft Auto V [PS3, Russian subtitles]                         </td><td> 16642</td></tr>\n",
              "\t<tr><td>17717</td><td>Acceptance of funds for 1C-Online                                   </td><td> 15830</td></tr>\n",
              "\t<tr><td> 5822</td><td>Playstation Store replenishment of wallet: Payment card 1000 rubles.</td><td> 14515</td></tr>\n",
              "\t<tr><td> 3734</td><td>Grand Theft Auto V [Xbox 360, Russian subtitles]                    </td><td> 11688</td></tr>\n",
              "\t<tr><td> 6675</td><td>Sony PlayStation 4 (500 Gb) Black (CUH-1008A/1108A/B01)             </td><td> 10289</td></tr>\n",
              "\t<tr><td> 3731</td><td>Grand Theft Auto V [PC, Russian subtitles]                          </td><td> 10099</td></tr>\n",
              "\t<tr><td> 1855</td><td>Battlefield 4 [PC, Russian version]                                 </td><td> 10032</td></tr>\n",
              "\t<tr><td>16787</td><td>Some of us [PS3, Russian version]                                   </td><td>  9227</td></tr>\n",
              "</tbody>\n",
              "</table>\n"
            ],
            "text/markdown": "\nA grouped_df: 10 × 3\n\n| item_id &lt;int&gt; | item_name &lt;chr&gt; | item_cnt_day &lt;dbl&gt; |\n|---|---|---|\n| 20949 | Corporate package T-shirt 1C Interest white (34 * 42) 45 microns     | 187642 |\n|  2808 | Diablo III [PC, Jewel, Russian version]                              |  17245 |\n|  3732 | Grand Theft Auto V [PS3, Russian subtitles]                          |  16642 |\n| 17717 | Acceptance of funds for 1C-Online                                    |  15830 |\n|  5822 | Playstation Store replenishment of wallet: Payment card 1000 rubles. |  14515 |\n|  3734 | Grand Theft Auto V [Xbox 360, Russian subtitles]                     |  11688 |\n|  6675 | Sony PlayStation 4 (500 Gb) Black (CUH-1008A/1108A/B01)              |  10289 |\n|  3731 | Grand Theft Auto V [PC, Russian subtitles]                           |  10099 |\n|  1855 | Battlefield 4 [PC, Russian version]                                  |  10032 |\n| 16787 | Some of us [PS3, Russian version]                                    |   9227 |\n\n",
            "text/latex": "A grouped\\_df: 10 × 3\n\\begin{tabular}{lll}\n item\\_id & item\\_name & item\\_cnt\\_day\\\\\n <int> & <chr> & <dbl>\\\\\n\\hline\n\t 20949 & Corporate package T-shirt 1C Interest white (34 * 42) 45 microns     & 187642\\\\\n\t  2808 & Diablo III {[}PC, Jewel, Russian version{]}                              &  17245\\\\\n\t  3732 & Grand Theft Auto V {[}PS3, Russian subtitles{]}                          &  16642\\\\\n\t 17717 & Acceptance of funds for 1C-Online                                    &  15830\\\\\n\t  5822 & Playstation Store replenishment of wallet: Payment card 1000 rubles. &  14515\\\\\n\t  3734 & Grand Theft Auto V {[}Xbox 360, Russian subtitles{]}                     &  11688\\\\\n\t  6675 & Sony PlayStation 4 (500 Gb) Black (CUH-1008A/1108A/B01)              &  10289\\\\\n\t  3731 & Grand Theft Auto V {[}PC, Russian subtitles{]}                           &  10099\\\\\n\t  1855 & Battlefield 4 {[}PC, Russian version{]}                                  &  10032\\\\\n\t 16787 & Some of us {[}PS3, Russian version{]}                                    &   9227\\\\\n\\end{tabular}\n",
            "text/plain": [
              "   item_id item_name                                                           \n",
              "1  20949   Corporate package T-shirt 1C Interest white (34 * 42) 45 microns    \n",
              "2   2808   Diablo III [PC, Jewel, Russian version]                             \n",
              "3   3732   Grand Theft Auto V [PS3, Russian subtitles]                         \n",
              "4  17717   Acceptance of funds for 1C-Online                                   \n",
              "5   5822   Playstation Store replenishment of wallet: Payment card 1000 rubles.\n",
              "6   3734   Grand Theft Auto V [Xbox 360, Russian subtitles]                    \n",
              "7   6675   Sony PlayStation 4 (500 Gb) Black (CUH-1008A/1108A/B01)             \n",
              "8   3731   Grand Theft Auto V [PC, Russian subtitles]                          \n",
              "9   1855   Battlefield 4 [PC, Russian version]                                 \n",
              "10 16787   Some of us [PS3, Russian version]                                   \n",
              "   item_cnt_day\n",
              "1  187642      \n",
              "2   17245      \n",
              "3   16642      \n",
              "4   15830      \n",
              "5   14515      \n",
              "6   11688      \n",
              "7   10289      \n",
              "8   10099      \n",
              "9   10032      \n",
              "10   9227      "
            ]
          },
          "metadata": {}
        }
      ]
    },
    {
      "cell_type": "markdown",
      "source": [
        "Выполнение пункта 2"
      ],
      "metadata": {
        "id": "F3lp9dv_-h53"
      }
    },
    {
      "cell_type": "code",
      "source": [
        "only_task_1 <- filter(sales_train_merged, item_id %in% task_1$item_id)\n",
        "year_2013 <- only_task_1[only_task_1$date_block_num %/% 12 == 0,] %>%\n",
        "             group_by(item_id, item_name) %>%\n",
        "             summarise(item_cnt_day = sum(item_cnt_day))\n",
        "year_2014 <- only_task_1[only_task_1$date_block_num %/% 12 == 1,] %>%\n",
        "             group_by(item_id, item_name) %>%\n",
        "             summarise(item_cnt_day = sum(item_cnt_day))\n",
        "year_2015 <- only_task_1[only_task_1$date_block_num %/% 12 == 2,] %>%\n",
        "             group_by(item_id, item_name) %>%\n",
        "             summarise(item_cnt_day = sum(item_cnt_day))\n",
        "task_1_2 <- filter(task_1, item_id %in% year_2013$item_id & item_id %in% year_2014$item_id & item_id %in% year_2013$item_id)\n",
        "task_1_2\n",
        "  \n",
        "\n"
      ],
      "metadata": {
        "colab": {
          "base_uri": "https://localhost:8080/",
          "height": 484
        },
        "id": "e41p8DtobrO-",
        "outputId": "557ccd2f-7fc2-4502-fbb4-6604caa69ca6"
      },
      "execution_count": null,
      "outputs": [
        {
          "output_type": "stream",
          "name": "stderr",
          "text": [
            "\u001b[1m\u001b[22m`summarise()` has grouped output by 'item_id'. You can override using the\n",
            "`.groups` argument.\n",
            "\u001b[1m\u001b[22m`summarise()` has grouped output by 'item_id'. You can override using the\n",
            "`.groups` argument.\n",
            "\u001b[1m\u001b[22m`summarise()` has grouped output by 'item_id'. You can override using the\n",
            "`.groups` argument.\n"
          ]
        },
        {
          "output_type": "display_data",
          "data": {
            "text/html": [
              "<table class=\"dataframe\">\n",
              "<caption>A grouped_df: 9 × 3</caption>\n",
              "<thead>\n",
              "\t<tr><th scope=col>item_id</th><th scope=col>item_name</th><th scope=col>item_cnt_day</th></tr>\n",
              "\t<tr><th scope=col>&lt;int&gt;</th><th scope=col>&lt;chr&gt;</th><th scope=col>&lt;dbl&gt;</th></tr>\n",
              "</thead>\n",
              "<tbody>\n",
              "\t<tr><td>20949</td><td>Corporate package T-shirt 1C Interest white (34 * 42) 45 microns    </td><td>187642</td></tr>\n",
              "\t<tr><td> 2808</td><td>Diablo III [PC, Jewel, Russian version]                             </td><td> 17245</td></tr>\n",
              "\t<tr><td> 3732</td><td>Grand Theft Auto V [PS3, Russian subtitles]                         </td><td> 16642</td></tr>\n",
              "\t<tr><td>17717</td><td>Acceptance of funds for 1C-Online                                   </td><td> 15830</td></tr>\n",
              "\t<tr><td> 5822</td><td>Playstation Store replenishment of wallet: Payment card 1000 rubles.</td><td> 14515</td></tr>\n",
              "\t<tr><td> 3734</td><td>Grand Theft Auto V [Xbox 360, Russian subtitles]                    </td><td> 11688</td></tr>\n",
              "\t<tr><td> 6675</td><td>Sony PlayStation 4 (500 Gb) Black (CUH-1008A/1108A/B01)             </td><td> 10289</td></tr>\n",
              "\t<tr><td> 1855</td><td>Battlefield 4 [PC, Russian version]                                 </td><td> 10032</td></tr>\n",
              "\t<tr><td>16787</td><td>Some of us [PS3, Russian version]                                   </td><td>  9227</td></tr>\n",
              "</tbody>\n",
              "</table>\n"
            ],
            "text/markdown": "\nA grouped_df: 9 × 3\n\n| item_id &lt;int&gt; | item_name &lt;chr&gt; | item_cnt_day &lt;dbl&gt; |\n|---|---|---|\n| 20949 | Corporate package T-shirt 1C Interest white (34 * 42) 45 microns     | 187642 |\n|  2808 | Diablo III [PC, Jewel, Russian version]                              |  17245 |\n|  3732 | Grand Theft Auto V [PS3, Russian subtitles]                          |  16642 |\n| 17717 | Acceptance of funds for 1C-Online                                    |  15830 |\n|  5822 | Playstation Store replenishment of wallet: Payment card 1000 rubles. |  14515 |\n|  3734 | Grand Theft Auto V [Xbox 360, Russian subtitles]                     |  11688 |\n|  6675 | Sony PlayStation 4 (500 Gb) Black (CUH-1008A/1108A/B01)              |  10289 |\n|  1855 | Battlefield 4 [PC, Russian version]                                  |  10032 |\n| 16787 | Some of us [PS3, Russian version]                                    |   9227 |\n\n",
            "text/latex": "A grouped\\_df: 9 × 3\n\\begin{tabular}{lll}\n item\\_id & item\\_name & item\\_cnt\\_day\\\\\n <int> & <chr> & <dbl>\\\\\n\\hline\n\t 20949 & Corporate package T-shirt 1C Interest white (34 * 42) 45 microns     & 187642\\\\\n\t  2808 & Diablo III {[}PC, Jewel, Russian version{]}                              &  17245\\\\\n\t  3732 & Grand Theft Auto V {[}PS3, Russian subtitles{]}                          &  16642\\\\\n\t 17717 & Acceptance of funds for 1C-Online                                    &  15830\\\\\n\t  5822 & Playstation Store replenishment of wallet: Payment card 1000 rubles. &  14515\\\\\n\t  3734 & Grand Theft Auto V {[}Xbox 360, Russian subtitles{]}                     &  11688\\\\\n\t  6675 & Sony PlayStation 4 (500 Gb) Black (CUH-1008A/1108A/B01)              &  10289\\\\\n\t  1855 & Battlefield 4 {[}PC, Russian version{]}                                  &  10032\\\\\n\t 16787 & Some of us {[}PS3, Russian version{]}                                    &   9227\\\\\n\\end{tabular}\n",
            "text/plain": [
              "  item_id item_name                                                           \n",
              "1 20949   Corporate package T-shirt 1C Interest white (34 * 42) 45 microns    \n",
              "2  2808   Diablo III [PC, Jewel, Russian version]                             \n",
              "3  3732   Grand Theft Auto V [PS3, Russian subtitles]                         \n",
              "4 17717   Acceptance of funds for 1C-Online                                   \n",
              "5  5822   Playstation Store replenishment of wallet: Payment card 1000 rubles.\n",
              "6  3734   Grand Theft Auto V [Xbox 360, Russian subtitles]                    \n",
              "7  6675   Sony PlayStation 4 (500 Gb) Black (CUH-1008A/1108A/B01)             \n",
              "8  1855   Battlefield 4 [PC, Russian version]                                 \n",
              "9 16787   Some of us [PS3, Russian version]                                   \n",
              "  item_cnt_day\n",
              "1 187642      \n",
              "2  17245      \n",
              "3  16642      \n",
              "4  15830      \n",
              "5  14515      \n",
              "6  11688      \n",
              "7  10289      \n",
              "8  10032      \n",
              "9   9227      "
            ]
          },
          "metadata": {}
        }
      ]
    },
    {
      "cell_type": "markdown",
      "source": [
        "# Задание 2"
      ],
      "metadata": {
        "id": "oaood23UKK5e"
      }
    },
    {
      "cell_type": "markdown",
      "source": [
        "> При выполнении на pandas не используйте merge().\n",
        "\n",
        "1. Определите категорию товаров, в которой совершается минимальное число покупок. Выведите айди и название категории.\n",
        "2. Определите категорию товаров, в которой совершается максимальное число покупок. Выведите айди и название категории."
      ],
      "metadata": {
        "id": "6fKaQTb0KK5f"
      }
    },
    {
      "cell_type": "markdown",
      "source": [
        "Выполнение пункта 1"
      ],
      "metadata": {
        "id": "GGRBqZ5s3GGB"
      }
    },
    {
      "cell_type": "code",
      "source": [
        "new_item_categories <- rename(item_categories,\n",
        "                       category_id = item_category_id)\n",
        "sales_train_super_merged <- merge(sales_train_merged, new_item_categories, by=\"category_id\")\n",
        "df <- sales_train_super_merged %>%\n",
        "      group_by(category_id, item_category_name) %>%\n",
        "      summarise(item_cnt_day = sum(item_cnt_day))\n",
        "min_value <- min(df$item_cnt_day)\n",
        "min_category = df[df$item_cnt_day == min_value, ]\n",
        "min_category[,1:2]"
      ],
      "metadata": {
        "id": "FLxvwcrAQPrE",
        "colab": {
          "base_uri": "https://localhost:8080/",
          "height": 196
        },
        "outputId": "eb02b290-5d72-440a-d38a-7ea9caaf9967"
      },
      "execution_count": null,
      "outputs": [
        {
          "output_type": "stream",
          "name": "stderr",
          "text": [
            "\u001b[1m\u001b[22m`summarise()` has grouped output by 'category_id'. You can override using the\n",
            "`.groups` argument.\n"
          ]
        },
        {
          "output_type": "display_data",
          "data": {
            "text/html": [
              "<table class=\"dataframe\">\n",
              "<caption>A grouped_df: 2 × 2</caption>\n",
              "<thead>\n",
              "\t<tr><th scope=col>category_id</th><th scope=col>item_category_name</th></tr>\n",
              "\t<tr><th scope=col>&lt;int&gt;</th><th scope=col>&lt;chr&gt;</th></tr>\n",
              "</thead>\n",
              "<tbody>\n",
              "\t<tr><td>10</td><td> Game consoles - PS2         </td></tr>\n",
              "\t<tr><td>51</td><td> Books - Cognitive literature</td></tr>\n",
              "</tbody>\n",
              "</table>\n"
            ],
            "text/markdown": "\nA grouped_df: 2 × 2\n\n| category_id &lt;int&gt; | item_category_name &lt;chr&gt; |\n|---|---|\n| 10 |  Game consoles - PS2          |\n| 51 |  Books - Cognitive literature |\n\n",
            "text/latex": "A grouped\\_df: 2 × 2\n\\begin{tabular}{ll}\n category\\_id & item\\_category\\_name\\\\\n <int> & <chr>\\\\\n\\hline\n\t 10 &  Game consoles - PS2         \\\\\n\t 51 &  Books - Cognitive literature\\\\\n\\end{tabular}\n",
            "text/plain": [
              "  category_id item_category_name           \n",
              "1 10           Game consoles - PS2         \n",
              "2 51           Books - Cognitive literature"
            ]
          },
          "metadata": {}
        }
      ]
    },
    {
      "cell_type": "markdown",
      "source": [
        "Выполнение пункта 2"
      ],
      "metadata": {
        "id": "PXk0XaPI3CmM"
      }
    },
    {
      "cell_type": "code",
      "source": [
        "max_value <- max(df$item_cnt_day)\n",
        "max_category = df[df$item_cnt_day == max_value, ]\n",
        "max_category[, 1:2]"
      ],
      "metadata": {
        "colab": {
          "base_uri": "https://localhost:8080/",
          "height": 129
        },
        "id": "7aZDlrDv0RA1",
        "outputId": "be611e8c-33d8-46a9-98de-0b4e16812a50"
      },
      "execution_count": null,
      "outputs": [
        {
          "output_type": "display_data",
          "data": {
            "text/html": [
              "<table class=\"dataframe\">\n",
              "<caption>A grouped_df: 1 × 2</caption>\n",
              "<thead>\n",
              "\t<tr><th scope=col>category_id</th><th scope=col>item_category_name</th></tr>\n",
              "\t<tr><th scope=col>&lt;int&gt;</th><th scope=col>&lt;chr&gt;</th></tr>\n",
              "</thead>\n",
              "<tbody>\n",
              "\t<tr><td>40</td><td> Cinema - DVD</td></tr>\n",
              "</tbody>\n",
              "</table>\n"
            ],
            "text/markdown": "\nA grouped_df: 1 × 2\n\n| category_id &lt;int&gt; | item_category_name &lt;chr&gt; |\n|---|---|\n| 40 |  Cinema - DVD |\n\n",
            "text/latex": "A grouped\\_df: 1 × 2\n\\begin{tabular}{ll}\n category\\_id & item\\_category\\_name\\\\\n <int> & <chr>\\\\\n\\hline\n\t 40 &  Cinema - DVD\\\\\n\\end{tabular}\n",
            "text/plain": [
              "  category_id item_category_name\n",
              "1 40           Cinema - DVD     "
            ]
          },
          "metadata": {}
        }
      ]
    },
    {
      "cell_type": "markdown",
      "source": [
        "# Задание 3"
      ],
      "metadata": {
        "id": "a99rnQRwKLLR"
      }
    },
    {
      "cell_type": "markdown",
      "source": [
        "1. Для категорий из задания 2 найдите среднее количество продаж каждого товара категории в 5 магазинах с наибольшими продажами.\n",
        "2. Найдите месяцы с минимальными и максимальными продажами для каждого товара из пункта 1.\n"
      ],
      "metadata": {
        "id": "sxh1WWITKLLS"
      }
    },
    {
      "cell_type": "markdown",
      "source": [
        "Выполенние пункта 1"
      ],
      "metadata": {
        "id": "fFx7wQdED4g4"
      }
    },
    {
      "cell_type": "code",
      "source": [
        "#пять магазинов\n",
        "grouped_by_shops <- sales_train_merged %>%\n",
        "                    group_by(shop_id) %>%\n",
        "                    summarise(item_cnt_day = sum(item_cnt_day))\n",
        "top_shops <- head(grouped_by_shops[order(grouped_by_shops$item_cnt_day, decreasing=TRUE),], n=5)\n",
        "only_top_shops <- merge(sales_train_merged, top_shops, by=\"shop_id\")\n",
        "grouped_only_top_shops <- only_top_shops %>%\n",
        "                          group_by(category_id, item_id, item_name) %>%\n",
        "                          summarise(item_cnt_day.x = mean(item_cnt_day.x))\n",
        "#пустой вывод, товары категорий с минимальными продажами в топовых магазинах не продавались\n",
        "grouped_only_top_shops[grouped_only_top_shops$category_id == 10 | grouped_only_top_shops$category_id == 51, ] \n",
        "#вывод средней цены для товаров категории с максимальными продажами\n",
        "grouped_only_top_shops[grouped_only_top_shops$category_id == 40, ]\n"
      ],
      "metadata": {
        "id": "McJPnIE0QaUd",
        "colab": {
          "base_uri": "https://localhost:8080/",
          "height": 1000
        },
        "outputId": "15bf01aa-e342-44c5-acd6-cda9784bf73d"
      },
      "execution_count": null,
      "outputs": [
        {
          "output_type": "stream",
          "name": "stderr",
          "text": [
            "\u001b[1m\u001b[22m`summarise()` has grouped output by 'category_id', 'item_id'. You can override\n",
            "using the `.groups` argument.\n"
          ]
        },
        {
          "output_type": "display_data",
          "data": {
            "text/html": [
              "<table class=\"dataframe\">\n",
              "<caption>A grouped_df: 0 × 4</caption>\n",
              "<thead>\n",
              "\t<tr><th scope=col>category_id</th><th scope=col>item_id</th><th scope=col>item_name</th><th scope=col>item_cnt_day.x</th></tr>\n",
              "\t<tr><th scope=col>&lt;int&gt;</th><th scope=col>&lt;int&gt;</th><th scope=col>&lt;chr&gt;</th><th scope=col>&lt;dbl&gt;</th></tr>\n",
              "</thead>\n",
              "<tbody>\n",
              "</tbody>\n",
              "</table>\n"
            ],
            "text/markdown": "\nA grouped_df: 0 × 4\n\n| category_id &lt;int&gt; | item_id &lt;int&gt; | item_name &lt;chr&gt; | item_cnt_day.x &lt;dbl&gt; |\n|---|---|---|---|\n\n",
            "text/latex": "A grouped\\_df: 0 × 4\n\\begin{tabular}{llll}\n category\\_id & item\\_id & item\\_name & item\\_cnt\\_day.x\\\\\n <int> & <int> & <chr> & <dbl>\\\\\n\\hline\n\\end{tabular}\n",
            "text/plain": [
              "     category_id item_id item_name item_cnt_day.x"
            ]
          },
          "metadata": {}
        },
        {
          "output_type": "display_data",
          "data": {
            "text/html": [
              "<table class=\"dataframe\">\n",
              "<caption>A grouped_df: 4714 × 4</caption>\n",
              "<thead>\n",
              "\t<tr><th scope=col>category_id</th><th scope=col>item_id</th><th scope=col>item_name</th><th scope=col>item_cnt_day.x</th></tr>\n",
              "\t<tr><th scope=col>&lt;int&gt;</th><th scope=col>&lt;int&gt;</th><th scope=col>&lt;chr&gt;</th><th scope=col>&lt;dbl&gt;</th></tr>\n",
              "</thead>\n",
              "<tbody>\n",
              "\t<tr><td>40</td><td> 0</td><td>!! IN THE POWER OF HAPPINESS (PLAST) D</td><td>1.000000</td></tr>\n",
              "\t<tr><td>40</td><td> 2</td><td>*** IN THE GLORY OF THE GLORY (UNV) D </td><td>1.000000</td></tr>\n",
              "\t<tr><td>40</td><td> 3</td><td>*** BLUE WAVE (Univ) D                </td><td>1.000000</td></tr>\n",
              "\t<tr><td>40</td><td> 4</td><td>*** BOX (GLASS) D                     </td><td>1.000000</td></tr>\n",
              "\t<tr><td>40</td><td> 5</td><td>*** NEW AMERICAN GRAPHICS (UNI) D     </td><td>1.000000</td></tr>\n",
              "\t<tr><td>40</td><td> 6</td><td>*** BLOCK ON THE GATES (UNI) D        </td><td>1.000000</td></tr>\n",
              "\t<tr><td>40</td><td> 7</td><td>*** SHOCK AT DOOR-2 (UNI) D           </td><td>1.000000</td></tr>\n",
              "\t<tr><td>40</td><td> 8</td><td>*** TEA WITH MUSSOLINI D              </td><td>1.000000</td></tr>\n",
              "\t<tr><td>40</td><td> 9</td><td>*** SHUGARLEND EXPRESS (UNI) D        </td><td>1.000000</td></tr>\n",
              "\t<tr><td>40</td><td>10</td><td>* Beyond Death's Edge D               </td><td>1.000000</td></tr>\n",
              "\t<tr><td>40</td><td>11</td><td>* LINE OF COMMENTS D                  </td><td>1.000000</td></tr>\n",
              "\t<tr><td>40</td><td>13</td><td>* SAVING EMILY D                      </td><td>1.000000</td></tr>\n",
              "\t<tr><td>40</td><td>14</td><td>* PRIVATE PROFESSOR / MAGIC / D       </td><td>1.000000</td></tr>\n",
              "\t<tr><td>40</td><td>15</td><td>// ADRENALIN: ONE AGAINST ALL (Region)</td><td>1.000000</td></tr>\n",
              "\t<tr><td>40</td><td>18</td><td>/ BOMB FOR THE BRIDE / 2DVD / D       </td><td>1.000000</td></tr>\n",
              "\t<tr><td>40</td><td>19</td><td>/ GOLDEN COLLECTION m / f-72          </td><td>1.000000</td></tr>\n",
              "\t<tr><td>40</td><td>20</td><td>/ ONCE IN CHINA-2                     </td><td>1.000000</td></tr>\n",
              "\t<tr><td>40</td><td>21</td><td>/LAST CHANCE                          </td><td>1.000000</td></tr>\n",
              "\t<tr><td>40</td><td>22</td><td>/ CURED EL CHARRO                     </td><td>1.000000</td></tr>\n",
              "\t<tr><td>40</td><td>23</td><td>/ NORTH AND SOUTH / N.2               </td><td>1.000000</td></tr>\n",
              "\t<tr><td>40</td><td>24</td><td>/ THE DEATH PASSAGE                   </td><td>1.000000</td></tr>\n",
              "\t<tr><td>40</td><td>25</td><td>/YOU ARE DEAD                         </td><td>1.000000</td></tr>\n",
              "\t<tr><td>40</td><td>26</td><td>/ MULTIPLE FREQUENCY vol.2 (ser.3-4)  </td><td>1.000000</td></tr>\n",
              "\t<tr><td>40</td><td>30</td><td>007: COORDINATES \"SKYFOLL\"            </td><td>1.869565</td></tr>\n",
              "\t<tr><td>40</td><td>32</td><td>1+1                                   </td><td>1.241431</td></tr>\n",
              "\t<tr><td>40</td><td>34</td><td>10 000 YEARS OLDER OUR WB (region)    </td><td>1.000000</td></tr>\n",
              "\t<tr><td>40</td><td>35</td><td>10 YEARS LATER                        </td><td>1.428571</td></tr>\n",
              "\t<tr><td>40</td><td>37</td><td>10 YEARS LATER (region)               </td><td>1.000000</td></tr>\n",
              "\t<tr><td>40</td><td>43</td><td>100 MILLION EURO                      </td><td>1.000000</td></tr>\n",
              "\t<tr><td>40</td><td>63</td><td>101 DALMATINE wd                      </td><td>1.000000</td></tr>\n",
              "\t<tr><td>⋮</td><td>⋮</td><td>⋮</td><td>⋮</td></tr>\n",
              "\t<tr><td>40</td><td>22075</td><td>EFFECTIVE SLIMMING: Fitness yoga. First level. </td><td>1.000000</td></tr>\n",
              "\t<tr><td>40</td><td>22108</td><td>YUNONA AND AVOS (N.Karachentsov)               </td><td>1.000000</td></tr>\n",
              "\t<tr><td>40</td><td>22114</td><td>I WILL BE NEAR                                 </td><td>1.025641</td></tr>\n",
              "\t<tr><td>40</td><td>22116</td><td>I AND MONIKA VELIUR                            </td><td>1.000000</td></tr>\n",
              "\t<tr><td>40</td><td>22119</td><td>I DO NOT KNOW HOW IT DOES IT (region)          </td><td>1.031250</td></tr>\n",
              "\t<tr><td>40</td><td>22120</td><td>I AM NORMALLY SUPER GOOD (region)              </td><td>1.000000</td></tr>\n",
              "\t<tr><td>40</td><td>22121</td><td>I'm VERY EXCITED                               </td><td>1.415385</td></tr>\n",
              "\t<tr><td>40</td><td>22123</td><td>I AM VERY EXCITED (region)                     </td><td>1.000000</td></tr>\n",
              "\t<tr><td>40</td><td>22124</td><td>I SPIT ON YOUR GRAVE                           </td><td>1.000000</td></tr>\n",
              "\t<tr><td>40</td><td>22126</td><td>I PIG ON YOUR TREASURE 2                       </td><td>1.328767</td></tr>\n",
              "\t<tr><td>40</td><td>22128</td><td>I'm SAM (region)                               </td><td>1.000000</td></tr>\n",
              "\t<tr><td>40</td><td>22129</td><td>I ALSO                                         </td><td>1.000000</td></tr>\n",
              "\t<tr><td>40</td><td>22130</td><td>I ALSO WANT TO                                 </td><td>1.455556</td></tr>\n",
              "\t<tr><td>40</td><td>22132</td><td>I ALSO WANT TO (region)                        </td><td>1.022727</td></tr>\n",
              "\t<tr><td>40</td><td>22133</td><td>I STEP BY MOSCOW (region)                      </td><td>1.000000</td></tr>\n",
              "\t<tr><td>40</td><td>22134</td><td>I, ALEX CROSS                                  </td><td>1.377778</td></tr>\n",
              "\t<tr><td>40</td><td>22136</td><td>I, ALEX CROSS (region)                         </td><td>1.000000</td></tr>\n",
              "\t<tr><td>40</td><td>22141</td><td>Me, AGAIN AND MOM                              </td><td>1.148148</td></tr>\n",
              "\t<tr><td>40</td><td>22143</td><td>I AM FRANKENSTEIN                              </td><td>1.644578</td></tr>\n",
              "\t<tr><td>40</td><td>22147</td><td>I-LEGEND WB (region)                           </td><td>1.000000</td></tr>\n",
              "\t<tr><td>40</td><td>22148</td><td>I-FOURTH WD                                    </td><td>1.000000</td></tr>\n",
              "\t<tr><td>40</td><td>22149</td><td>I-FOURTH WD (Region)                           </td><td>1.000000</td></tr>\n",
              "\t<tr><td>40</td><td>22151</td><td>SCENE (2012)                                   </td><td>1.540000</td></tr>\n",
              "\t<tr><td>40</td><td>22152</td><td>SCENE (2012) (region)                          </td><td>1.000000</td></tr>\n",
              "\t<tr><td>40</td><td>22156</td><td>POISONS, OR WORLD HISTORY OF POISONING (region)</td><td>1.000000</td></tr>\n",
              "\t<tr><td>40</td><td>22157</td><td>YALTA 45                                       </td><td>1.000000</td></tr>\n",
              "\t<tr><td>40</td><td>22159</td><td>YANKOVSKY                                      </td><td>1.142857</td></tr>\n",
              "\t<tr><td>40</td><td>22160</td><td>FAIR OF FAIRY (Region)                         </td><td>1.000000</td></tr>\n",
              "\t<tr><td>40</td><td>22162</td><td>THE FATHER                                     </td><td>1.481283</td></tr>\n",
              "\t<tr><td>40</td><td>22163</td><td>FURNISH (region)                               </td><td>1.114286</td></tr>\n",
              "</tbody>\n",
              "</table>\n"
            ],
            "text/markdown": "\nA grouped_df: 4714 × 4\n\n| category_id &lt;int&gt; | item_id &lt;int&gt; | item_name &lt;chr&gt; | item_cnt_day.x &lt;dbl&gt; |\n|---|---|---|---|\n| 40 |  0 | !! IN THE POWER OF HAPPINESS (PLAST) D | 1.000000 |\n| 40 |  2 | *** IN THE GLORY OF THE GLORY (UNV) D  | 1.000000 |\n| 40 |  3 | *** BLUE WAVE (Univ) D                 | 1.000000 |\n| 40 |  4 | *** BOX (GLASS) D                      | 1.000000 |\n| 40 |  5 | *** NEW AMERICAN GRAPHICS (UNI) D      | 1.000000 |\n| 40 |  6 | *** BLOCK ON THE GATES (UNI) D         | 1.000000 |\n| 40 |  7 | *** SHOCK AT DOOR-2 (UNI) D            | 1.000000 |\n| 40 |  8 | *** TEA WITH MUSSOLINI D               | 1.000000 |\n| 40 |  9 | *** SHUGARLEND EXPRESS (UNI) D         | 1.000000 |\n| 40 | 10 | * Beyond Death's Edge D                | 1.000000 |\n| 40 | 11 | * LINE OF COMMENTS D                   | 1.000000 |\n| 40 | 13 | * SAVING EMILY D                       | 1.000000 |\n| 40 | 14 | * PRIVATE PROFESSOR / MAGIC / D        | 1.000000 |\n| 40 | 15 | // ADRENALIN: ONE AGAINST ALL (Region) | 1.000000 |\n| 40 | 18 | / BOMB FOR THE BRIDE / 2DVD / D        | 1.000000 |\n| 40 | 19 | / GOLDEN COLLECTION m / f-72           | 1.000000 |\n| 40 | 20 | / ONCE IN CHINA-2                      | 1.000000 |\n| 40 | 21 | /LAST CHANCE                           | 1.000000 |\n| 40 | 22 | / CURED EL CHARRO                      | 1.000000 |\n| 40 | 23 | / NORTH AND SOUTH / N.2                | 1.000000 |\n| 40 | 24 | / THE DEATH PASSAGE                    | 1.000000 |\n| 40 | 25 | /YOU ARE DEAD                          | 1.000000 |\n| 40 | 26 | / MULTIPLE FREQUENCY vol.2 (ser.3-4)   | 1.000000 |\n| 40 | 30 | 007: COORDINATES \"SKYFOLL\"             | 1.869565 |\n| 40 | 32 | 1+1                                    | 1.241431 |\n| 40 | 34 | 10 000 YEARS OLDER OUR WB (region)     | 1.000000 |\n| 40 | 35 | 10 YEARS LATER                         | 1.428571 |\n| 40 | 37 | 10 YEARS LATER (region)                | 1.000000 |\n| 40 | 43 | 100 MILLION EURO                       | 1.000000 |\n| 40 | 63 | 101 DALMATINE wd                       | 1.000000 |\n| ⋮ | ⋮ | ⋮ | ⋮ |\n| 40 | 22075 | EFFECTIVE SLIMMING: Fitness yoga. First level.  | 1.000000 |\n| 40 | 22108 | YUNONA AND AVOS (N.Karachentsov)                | 1.000000 |\n| 40 | 22114 | I WILL BE NEAR                                  | 1.025641 |\n| 40 | 22116 | I AND MONIKA VELIUR                             | 1.000000 |\n| 40 | 22119 | I DO NOT KNOW HOW IT DOES IT (region)           | 1.031250 |\n| 40 | 22120 | I AM NORMALLY SUPER GOOD (region)               | 1.000000 |\n| 40 | 22121 | I'm VERY EXCITED                                | 1.415385 |\n| 40 | 22123 | I AM VERY EXCITED (region)                      | 1.000000 |\n| 40 | 22124 | I SPIT ON YOUR GRAVE                            | 1.000000 |\n| 40 | 22126 | I PIG ON YOUR TREASURE 2                        | 1.328767 |\n| 40 | 22128 | I'm SAM (region)                                | 1.000000 |\n| 40 | 22129 | I ALSO                                          | 1.000000 |\n| 40 | 22130 | I ALSO WANT TO                                  | 1.455556 |\n| 40 | 22132 | I ALSO WANT TO (region)                         | 1.022727 |\n| 40 | 22133 | I STEP BY MOSCOW (region)                       | 1.000000 |\n| 40 | 22134 | I, ALEX CROSS                                   | 1.377778 |\n| 40 | 22136 | I, ALEX CROSS (region)                          | 1.000000 |\n| 40 | 22141 | Me, AGAIN AND MOM                               | 1.148148 |\n| 40 | 22143 | I AM FRANKENSTEIN                               | 1.644578 |\n| 40 | 22147 | I-LEGEND WB (region)                            | 1.000000 |\n| 40 | 22148 | I-FOURTH WD                                     | 1.000000 |\n| 40 | 22149 | I-FOURTH WD (Region)                            | 1.000000 |\n| 40 | 22151 | SCENE (2012)                                    | 1.540000 |\n| 40 | 22152 | SCENE (2012) (region)                           | 1.000000 |\n| 40 | 22156 | POISONS, OR WORLD HISTORY OF POISONING (region) | 1.000000 |\n| 40 | 22157 | YALTA 45                                        | 1.000000 |\n| 40 | 22159 | YANKOVSKY                                       | 1.142857 |\n| 40 | 22160 | FAIR OF FAIRY (Region)                          | 1.000000 |\n| 40 | 22162 | THE FATHER                                      | 1.481283 |\n| 40 | 22163 | FURNISH (region)                                | 1.114286 |\n\n",
            "text/latex": "A grouped\\_df: 4714 × 4\n\\begin{tabular}{llll}\n category\\_id & item\\_id & item\\_name & item\\_cnt\\_day.x\\\\\n <int> & <int> & <chr> & <dbl>\\\\\n\\hline\n\t 40 &  0 & !! IN THE POWER OF HAPPINESS (PLAST) D & 1.000000\\\\\n\t 40 &  2 & *** IN THE GLORY OF THE GLORY (UNV) D  & 1.000000\\\\\n\t 40 &  3 & *** BLUE WAVE (Univ) D                 & 1.000000\\\\\n\t 40 &  4 & *** BOX (GLASS) D                      & 1.000000\\\\\n\t 40 &  5 & *** NEW AMERICAN GRAPHICS (UNI) D      & 1.000000\\\\\n\t 40 &  6 & *** BLOCK ON THE GATES (UNI) D         & 1.000000\\\\\n\t 40 &  7 & *** SHOCK AT DOOR-2 (UNI) D            & 1.000000\\\\\n\t 40 &  8 & *** TEA WITH MUSSOLINI D               & 1.000000\\\\\n\t 40 &  9 & *** SHUGARLEND EXPRESS (UNI) D         & 1.000000\\\\\n\t 40 & 10 & * Beyond Death's Edge D                & 1.000000\\\\\n\t 40 & 11 & * LINE OF COMMENTS D                   & 1.000000\\\\\n\t 40 & 13 & * SAVING EMILY D                       & 1.000000\\\\\n\t 40 & 14 & * PRIVATE PROFESSOR / MAGIC / D        & 1.000000\\\\\n\t 40 & 15 & // ADRENALIN: ONE AGAINST ALL (Region) & 1.000000\\\\\n\t 40 & 18 & / BOMB FOR THE BRIDE / 2DVD / D        & 1.000000\\\\\n\t 40 & 19 & / GOLDEN COLLECTION m / f-72           & 1.000000\\\\\n\t 40 & 20 & / ONCE IN CHINA-2                      & 1.000000\\\\\n\t 40 & 21 & /LAST CHANCE                           & 1.000000\\\\\n\t 40 & 22 & / CURED EL CHARRO                      & 1.000000\\\\\n\t 40 & 23 & / NORTH AND SOUTH / N.2                & 1.000000\\\\\n\t 40 & 24 & / THE DEATH PASSAGE                    & 1.000000\\\\\n\t 40 & 25 & /YOU ARE DEAD                          & 1.000000\\\\\n\t 40 & 26 & / MULTIPLE FREQUENCY vol.2 (ser.3-4)   & 1.000000\\\\\n\t 40 & 30 & 007: COORDINATES \"SKYFOLL\"             & 1.869565\\\\\n\t 40 & 32 & 1+1                                    & 1.241431\\\\\n\t 40 & 34 & 10 000 YEARS OLDER OUR WB (region)     & 1.000000\\\\\n\t 40 & 35 & 10 YEARS LATER                         & 1.428571\\\\\n\t 40 & 37 & 10 YEARS LATER (region)                & 1.000000\\\\\n\t 40 & 43 & 100 MILLION EURO                       & 1.000000\\\\\n\t 40 & 63 & 101 DALMATINE wd                       & 1.000000\\\\\n\t ⋮ & ⋮ & ⋮ & ⋮\\\\\n\t 40 & 22075 & EFFECTIVE SLIMMING: Fitness yoga. First level.  & 1.000000\\\\\n\t 40 & 22108 & YUNONA AND AVOS (N.Karachentsov)                & 1.000000\\\\\n\t 40 & 22114 & I WILL BE NEAR                                  & 1.025641\\\\\n\t 40 & 22116 & I AND MONIKA VELIUR                             & 1.000000\\\\\n\t 40 & 22119 & I DO NOT KNOW HOW IT DOES IT (region)           & 1.031250\\\\\n\t 40 & 22120 & I AM NORMALLY SUPER GOOD (region)               & 1.000000\\\\\n\t 40 & 22121 & I'm VERY EXCITED                                & 1.415385\\\\\n\t 40 & 22123 & I AM VERY EXCITED (region)                      & 1.000000\\\\\n\t 40 & 22124 & I SPIT ON YOUR GRAVE                            & 1.000000\\\\\n\t 40 & 22126 & I PIG ON YOUR TREASURE 2                        & 1.328767\\\\\n\t 40 & 22128 & I'm SAM (region)                                & 1.000000\\\\\n\t 40 & 22129 & I ALSO                                          & 1.000000\\\\\n\t 40 & 22130 & I ALSO WANT TO                                  & 1.455556\\\\\n\t 40 & 22132 & I ALSO WANT TO (region)                         & 1.022727\\\\\n\t 40 & 22133 & I STEP BY MOSCOW (region)                       & 1.000000\\\\\n\t 40 & 22134 & I, ALEX CROSS                                   & 1.377778\\\\\n\t 40 & 22136 & I, ALEX CROSS (region)                          & 1.000000\\\\\n\t 40 & 22141 & Me, AGAIN AND MOM                               & 1.148148\\\\\n\t 40 & 22143 & I AM FRANKENSTEIN                               & 1.644578\\\\\n\t 40 & 22147 & I-LEGEND WB (region)                            & 1.000000\\\\\n\t 40 & 22148 & I-FOURTH WD                                     & 1.000000\\\\\n\t 40 & 22149 & I-FOURTH WD (Region)                            & 1.000000\\\\\n\t 40 & 22151 & SCENE (2012)                                    & 1.540000\\\\\n\t 40 & 22152 & SCENE (2012) (region)                           & 1.000000\\\\\n\t 40 & 22156 & POISONS, OR WORLD HISTORY OF POISONING (region) & 1.000000\\\\\n\t 40 & 22157 & YALTA 45                                        & 1.000000\\\\\n\t 40 & 22159 & YANKOVSKY                                       & 1.142857\\\\\n\t 40 & 22160 & FAIR OF FAIRY (Region)                          & 1.000000\\\\\n\t 40 & 22162 & THE FATHER                                      & 1.481283\\\\\n\t 40 & 22163 & FURNISH (region)                                & 1.114286\\\\\n\\end{tabular}\n",
            "text/plain": [
              "     category_id item_id item_name                                      \n",
              "1    40           0      !! IN THE POWER OF HAPPINESS (PLAST) D         \n",
              "2    40           2      *** IN THE GLORY OF THE GLORY (UNV) D          \n",
              "3    40           3      *** BLUE WAVE (Univ) D                         \n",
              "4    40           4      *** BOX (GLASS) D                              \n",
              "5    40           5      *** NEW AMERICAN GRAPHICS (UNI) D              \n",
              "6    40           6      *** BLOCK ON THE GATES (UNI) D                 \n",
              "7    40           7      *** SHOCK AT DOOR-2 (UNI) D                    \n",
              "8    40           8      *** TEA WITH MUSSOLINI D                       \n",
              "9    40           9      *** SHUGARLEND EXPRESS (UNI) D                 \n",
              "10   40          10      * Beyond Death's Edge D                        \n",
              "11   40          11      * LINE OF COMMENTS D                           \n",
              "12   40          13      * SAVING EMILY D                               \n",
              "13   40          14      * PRIVATE PROFESSOR / MAGIC / D                \n",
              "14   40          15      // ADRENALIN: ONE AGAINST ALL (Region)         \n",
              "15   40          18      / BOMB FOR THE BRIDE / 2DVD / D                \n",
              "16   40          19      / GOLDEN COLLECTION m / f-72                   \n",
              "17   40          20      / ONCE IN CHINA-2                              \n",
              "18   40          21      /LAST CHANCE                                   \n",
              "19   40          22      / CURED EL CHARRO                              \n",
              "20   40          23      / NORTH AND SOUTH / N.2                        \n",
              "21   40          24      / THE DEATH PASSAGE                            \n",
              "22   40          25      /YOU ARE DEAD                                  \n",
              "23   40          26      / MULTIPLE FREQUENCY vol.2 (ser.3-4)           \n",
              "24   40          30      007: COORDINATES \"SKYFOLL\"                     \n",
              "25   40          32      1+1                                            \n",
              "26   40          34      10 000 YEARS OLDER OUR WB (region)             \n",
              "27   40          35      10 YEARS LATER                                 \n",
              "28   40          37      10 YEARS LATER (region)                        \n",
              "29   40          43      100 MILLION EURO                               \n",
              "30   40          63      101 DALMATINE wd                               \n",
              "⋮    ⋮           ⋮       ⋮                                              \n",
              "4685 40          22075   EFFECTIVE SLIMMING: Fitness yoga. First level. \n",
              "4686 40          22108   YUNONA AND AVOS (N.Karachentsov)               \n",
              "4687 40          22114   I WILL BE NEAR                                 \n",
              "4688 40          22116   I AND MONIKA VELIUR                            \n",
              "4689 40          22119   I DO NOT KNOW HOW IT DOES IT (region)          \n",
              "4690 40          22120   I AM NORMALLY SUPER GOOD (region)              \n",
              "4691 40          22121   I'm VERY EXCITED                               \n",
              "4692 40          22123   I AM VERY EXCITED (region)                     \n",
              "4693 40          22124   I SPIT ON YOUR GRAVE                           \n",
              "4694 40          22126   I PIG ON YOUR TREASURE 2                       \n",
              "4695 40          22128   I'm SAM (region)                               \n",
              "4696 40          22129   I ALSO                                         \n",
              "4697 40          22130   I ALSO WANT TO                                 \n",
              "4698 40          22132   I ALSO WANT TO (region)                        \n",
              "4699 40          22133   I STEP BY MOSCOW (region)                      \n",
              "4700 40          22134   I, ALEX CROSS                                  \n",
              "4701 40          22136   I, ALEX CROSS (region)                         \n",
              "4702 40          22141   Me, AGAIN AND MOM                              \n",
              "4703 40          22143   I AM FRANKENSTEIN                              \n",
              "4704 40          22147   I-LEGEND WB (region)                           \n",
              "4705 40          22148   I-FOURTH WD                                    \n",
              "4706 40          22149   I-FOURTH WD (Region)                           \n",
              "4707 40          22151   SCENE (2012)                                   \n",
              "4708 40          22152   SCENE (2012) (region)                          \n",
              "4709 40          22156   POISONS, OR WORLD HISTORY OF POISONING (region)\n",
              "4710 40          22157   YALTA 45                                       \n",
              "4711 40          22159   YANKOVSKY                                      \n",
              "4712 40          22160   FAIR OF FAIRY (Region)                         \n",
              "4713 40          22162   THE FATHER                                     \n",
              "4714 40          22163   FURNISH (region)                               \n",
              "     item_cnt_day.x\n",
              "1    1.000000      \n",
              "2    1.000000      \n",
              "3    1.000000      \n",
              "4    1.000000      \n",
              "5    1.000000      \n",
              "6    1.000000      \n",
              "7    1.000000      \n",
              "8    1.000000      \n",
              "9    1.000000      \n",
              "10   1.000000      \n",
              "11   1.000000      \n",
              "12   1.000000      \n",
              "13   1.000000      \n",
              "14   1.000000      \n",
              "15   1.000000      \n",
              "16   1.000000      \n",
              "17   1.000000      \n",
              "18   1.000000      \n",
              "19   1.000000      \n",
              "20   1.000000      \n",
              "21   1.000000      \n",
              "22   1.000000      \n",
              "23   1.000000      \n",
              "24   1.869565      \n",
              "25   1.241431      \n",
              "26   1.000000      \n",
              "27   1.428571      \n",
              "28   1.000000      \n",
              "29   1.000000      \n",
              "30   1.000000      \n",
              "⋮    ⋮             \n",
              "4685 1.000000      \n",
              "4686 1.000000      \n",
              "4687 1.025641      \n",
              "4688 1.000000      \n",
              "4689 1.031250      \n",
              "4690 1.000000      \n",
              "4691 1.415385      \n",
              "4692 1.000000      \n",
              "4693 1.000000      \n",
              "4694 1.328767      \n",
              "4695 1.000000      \n",
              "4696 1.000000      \n",
              "4697 1.455556      \n",
              "4698 1.022727      \n",
              "4699 1.000000      \n",
              "4700 1.377778      \n",
              "4701 1.000000      \n",
              "4702 1.148148      \n",
              "4703 1.644578      \n",
              "4704 1.000000      \n",
              "4705 1.000000      \n",
              "4706 1.000000      \n",
              "4707 1.540000      \n",
              "4708 1.000000      \n",
              "4709 1.000000      \n",
              "4710 1.000000      \n",
              "4711 1.142857      \n",
              "4712 1.000000      \n",
              "4713 1.481283      \n",
              "4714 1.114286      "
            ]
          },
          "metadata": {}
        }
      ]
    },
    {
      "cell_type": "markdown",
      "source": [
        "Выполнение пункта 2"
      ],
      "metadata": {
        "id": "5f5Bv2KZD0sL"
      }
    },
    {
      "cell_type": "code",
      "source": [
        "grouped_min_only_top_shops <- only_top_shops %>%\n",
        "                              group_by(category_id, item_id, item_name, date_block_num) %>%\n",
        "                              summarise(item_cnt_day.x = min(item_cnt_day.x))\n",
        "grouped_min_only_top_shops <- grouped_min_only_top_shops[order(grouped_min_only_top_shops$item_cnt_day.x),]\n",
        "grouped_min_only_top_shops <- grouped_min_only_top_shops[!duplicated(grouped_min_only_top_shops$item_id),] \n",
        "grouped_min_only_top_shops[grouped_min_only_top_shops$category_id == 10 | grouped_min_only_top_shops$category_id == 51, ] #пустой вывод, товары не продавались в топ-магизнах\n",
        "grouped_min_only_top_shops[grouped_min_only_top_shops$category_id == 40, ]\n"
      ],
      "metadata": {
        "id": "7R2a-h7rBJUb",
        "colab": {
          "base_uri": "https://localhost:8080/",
          "height": 1000
        },
        "outputId": "7279bb8e-3215-4c84-d0ee-4ff77c56068d"
      },
      "execution_count": null,
      "outputs": [
        {
          "output_type": "stream",
          "name": "stderr",
          "text": [
            "\u001b[1m\u001b[22m`summarise()` has grouped output by 'category_id', 'item_id', 'item_name'. You\n",
            "can override using the `.groups` argument.\n"
          ]
        },
        {
          "output_type": "display_data",
          "data": {
            "text/html": [
              "<table class=\"dataframe\">\n",
              "<caption>A grouped_df: 0 × 5</caption>\n",
              "<thead>\n",
              "\t<tr><th scope=col>category_id</th><th scope=col>item_id</th><th scope=col>item_name</th><th scope=col>date_block_num</th><th scope=col>item_cnt_day.x</th></tr>\n",
              "\t<tr><th scope=col>&lt;int&gt;</th><th scope=col>&lt;int&gt;</th><th scope=col>&lt;chr&gt;</th><th scope=col>&lt;int&gt;</th><th scope=col>&lt;dbl&gt;</th></tr>\n",
              "</thead>\n",
              "<tbody>\n",
              "</tbody>\n",
              "</table>\n"
            ],
            "text/markdown": "\nA grouped_df: 0 × 5\n\n| category_id &lt;int&gt; | item_id &lt;int&gt; | item_name &lt;chr&gt; | date_block_num &lt;int&gt; | item_cnt_day.x &lt;dbl&gt; |\n|---|---|---|---|---|\n\n",
            "text/latex": "A grouped\\_df: 0 × 5\n\\begin{tabular}{lllll}\n category\\_id & item\\_id & item\\_name & date\\_block\\_num & item\\_cnt\\_day.x\\\\\n <int> & <int> & <chr> & <int> & <dbl>\\\\\n\\hline\n\\end{tabular}\n",
            "text/plain": [
              "     category_id item_id item_name date_block_num item_cnt_day.x"
            ]
          },
          "metadata": {}
        },
        {
          "output_type": "display_data",
          "data": {
            "text/html": [
              "<table class=\"dataframe\">\n",
              "<caption>A grouped_df: 4714 × 5</caption>\n",
              "<thead>\n",
              "\t<tr><th scope=col>category_id</th><th scope=col>item_id</th><th scope=col>item_name</th><th scope=col>date_block_num</th><th scope=col>item_cnt_day.x</th></tr>\n",
              "\t<tr><th scope=col>&lt;int&gt;</th><th scope=col>&lt;int&gt;</th><th scope=col>&lt;chr&gt;</th><th scope=col>&lt;int&gt;</th><th scope=col>&lt;dbl&gt;</th></tr>\n",
              "</thead>\n",
              "<tbody>\n",
              "\t<tr><td>40</td><td>   30</td><td>007: COORDINATES \"SKYFOLL\"                        </td><td> 1</td><td>-1</td></tr>\n",
              "\t<tr><td>40</td><td>  934</td><td>2 STARS                                           </td><td>15</td><td>-1</td></tr>\n",
              "\t<tr><td>40</td><td> 4380</td><td>LEGO STAR WARS OF EMPIRE IMPOSES IMPACT           </td><td>14</td><td>-1</td></tr>\n",
              "\t<tr><td>40</td><td> 8100</td><td>AUGUST                                            </td><td>17</td><td>-1</td></tr>\n",
              "\t<tr><td>40</td><td> 8388</td><td>ASTERICS AND OBELIX IN BRITAIN                    </td><td> 4</td><td>-1</td></tr>\n",
              "\t<tr><td>40</td><td> 8585</td><td>BAKUGAN. ISSUE 4. EPISODES 21-26                  </td><td> 0</td><td>-1</td></tr>\n",
              "\t<tr><td>40</td><td> 8628</td><td>BARBIE AND THREE MUSHROOMS (region)               </td><td> 4</td><td>-1</td></tr>\n",
              "\t<tr><td>40</td><td> 8647</td><td>BARBIE: PRINCESS AND POP-STAR (region)            </td><td> 1</td><td>-1</td></tr>\n",
              "\t<tr><td>40</td><td> 8740</td><td>THE UNKNOWN STAR (region)                         </td><td> 8</td><td>-1</td></tr>\n",
              "\t<tr><td>40</td><td> 8775</td><td>WHITE ELEPHANT                                    </td><td> 0</td><td>-1</td></tr>\n",
              "\t<tr><td>40</td><td> 8843</td><td>WROIT. CINEMA WITHOUT BORDERS                     </td><td> 7</td><td>-1</td></tr>\n",
              "\t<tr><td>40</td><td> 8913</td><td>BLINDAŽ (region)                                  </td><td> 1</td><td>-1</td></tr>\n",
              "\t<tr><td>40</td><td> 8948</td><td>PAIN WITHOUT RIGHT                                </td><td> 9</td><td>-1</td></tr>\n",
              "\t<tr><td>40</td><td> 8971</td><td>GREAT CHANGE 1-2 (region)                         </td><td>21</td><td>-1</td></tr>\n",
              "\t<tr><td>40</td><td> 9043</td><td>THE BRIGADE. HEIR                                 </td><td> 1</td><td>-1</td></tr>\n",
              "\t<tr><td>40</td><td> 9507</td><td>SEARCH FOR NEMO (region)                          </td><td>18</td><td>-1</td></tr>\n",
              "\t<tr><td>40</td><td> 9511</td><td>In the HEART RHYTHM (region)                      </td><td> 0</td><td>-1</td></tr>\n",
              "\t<tr><td>40</td><td> 9589</td><td>UP (region)                                       </td><td>19</td><td>-1</td></tr>\n",
              "\t<tr><td>40</td><td> 9705</td><td>BBC: PLANET OF PEOPLE (4 DVDs)                    </td><td> 0</td><td>-1</td></tr>\n",
              "\t<tr><td>40</td><td> 9842</td><td>SPRING IN THE NURSERY STREET (region)             </td><td>16</td><td>-1</td></tr>\n",
              "\t<tr><td>40</td><td> 9855</td><td>VIVA, GARDEMARINS! (rem)                          </td><td>26</td><td>-1</td></tr>\n",
              "\t<tr><td>40</td><td> 9921</td><td>LOVE                                              </td><td> 5</td><td>-1</td></tr>\n",
              "\t<tr><td>40</td><td> 9940</td><td>MILITARY INTELLIGENCE 2: THE FIRST IMPACT (region)</td><td> 1</td><td>-1</td></tr>\n",
              "\t<tr><td>40</td><td> 9943</td><td>MILITARY INTELLIGENCE: NORTH FRONT (region)       </td><td> 1</td><td>-1</td></tr>\n",
              "\t<tr><td>40</td><td>10004</td><td>WIZARD OF EMERALD CITY sb.m / f (region)          </td><td>19</td><td>-1</td></tr>\n",
              "\t<tr><td>40</td><td>10096</td><td>UNIVERSE. 7 MIRACLES OF THE SOLAR SYSTEM          </td><td>12</td><td>-1</td></tr>\n",
              "\t<tr><td>40</td><td>10292</td><td>DESPICABLE ME                                     </td><td>24</td><td>-1</td></tr>\n",
              "\t<tr><td>40</td><td>10298</td><td>DESPICABLE ME 2                                   </td><td>12</td><td>-1</td></tr>\n",
              "\t<tr><td>40</td><td>10314</td><td>HERE 3 (rem)                                      </td><td>26</td><td>-1</td></tr>\n",
              "\t<tr><td>40</td><td>10318</td><td>GARDEMARINES, FORWARD! (1-2 SERIES) (rem)         </td><td>26</td><td>-1</td></tr>\n",
              "\t<tr><td>⋮</td><td>⋮</td><td>⋮</td><td>⋮</td><td>⋮</td></tr>\n",
              "\t<tr><td>40</td><td>22108</td><td>YUNONA AND AVOS (N.Karachentsov)               </td><td> 2</td><td>1</td></tr>\n",
              "\t<tr><td>40</td><td>22114</td><td>I WILL BE NEAR                                 </td><td> 3</td><td>1</td></tr>\n",
              "\t<tr><td>40</td><td>22116</td><td>I AND MONIKA VELIUR                            </td><td> 2</td><td>1</td></tr>\n",
              "\t<tr><td>40</td><td>22119</td><td>I DO NOT KNOW HOW IT DOES IT (region)          </td><td> 1</td><td>1</td></tr>\n",
              "\t<tr><td>40</td><td>22120</td><td>I AM NORMALLY SUPER GOOD (region)              </td><td> 3</td><td>1</td></tr>\n",
              "\t<tr><td>40</td><td>22121</td><td>I'm VERY EXCITED                               </td><td> 6</td><td>1</td></tr>\n",
              "\t<tr><td>40</td><td>22123</td><td>I AM VERY EXCITED (region)                     </td><td> 9</td><td>1</td></tr>\n",
              "\t<tr><td>40</td><td>22124</td><td>I SPIT ON YOUR GRAVE                           </td><td> 0</td><td>1</td></tr>\n",
              "\t<tr><td>40</td><td>22126</td><td>I PIG ON YOUR TREASURE 2                       </td><td> 9</td><td>1</td></tr>\n",
              "\t<tr><td>40</td><td>22128</td><td>I'm SAM (region)                               </td><td> 0</td><td>1</td></tr>\n",
              "\t<tr><td>40</td><td>22129</td><td>I ALSO                                         </td><td> 0</td><td>1</td></tr>\n",
              "\t<tr><td>40</td><td>22130</td><td>I ALSO WANT TO                                 </td><td> 0</td><td>1</td></tr>\n",
              "\t<tr><td>40</td><td>22132</td><td>I ALSO WANT TO (region)                        </td><td> 2</td><td>1</td></tr>\n",
              "\t<tr><td>40</td><td>22133</td><td>I STEP BY MOSCOW (region)                      </td><td>13</td><td>1</td></tr>\n",
              "\t<tr><td>40</td><td>22134</td><td>I, ALEX CROSS                                  </td><td> 0</td><td>1</td></tr>\n",
              "\t<tr><td>40</td><td>22136</td><td>I, ALEX CROSS (region)                         </td><td> 2</td><td>1</td></tr>\n",
              "\t<tr><td>40</td><td>22141</td><td>Me, AGAIN AND MOM                              </td><td>13</td><td>1</td></tr>\n",
              "\t<tr><td>40</td><td>22143</td><td>I AM FRANKENSTEIN                              </td><td>14</td><td>1</td></tr>\n",
              "\t<tr><td>40</td><td>22147</td><td>I-LEGEND WB (region)                           </td><td> 0</td><td>1</td></tr>\n",
              "\t<tr><td>40</td><td>22148</td><td>I-FOURTH WD                                    </td><td> 6</td><td>1</td></tr>\n",
              "\t<tr><td>40</td><td>22149</td><td>I-FOURTH WD (Region)                           </td><td> 0</td><td>1</td></tr>\n",
              "\t<tr><td>40</td><td>22151</td><td>SCENE (2012)                                   </td><td> 0</td><td>1</td></tr>\n",
              "\t<tr><td>40</td><td>22152</td><td>SCENE (2012) (region)                          </td><td> 2</td><td>1</td></tr>\n",
              "\t<tr><td>40</td><td>22156</td><td>POISONS, OR WORLD HISTORY OF POISONING (region)</td><td> 4</td><td>1</td></tr>\n",
              "\t<tr><td>40</td><td>22157</td><td>YALTA 45                                       </td><td> 4</td><td>1</td></tr>\n",
              "\t<tr><td>40</td><td>22159</td><td>YANKOVSKY                                      </td><td>28</td><td>1</td></tr>\n",
              "\t<tr><td>40</td><td>22160</td><td>FAIR OF FAIRY (Region)                         </td><td> 0</td><td>1</td></tr>\n",
              "\t<tr><td>40</td><td>22162</td><td>THE FATHER                                     </td><td>25</td><td>1</td></tr>\n",
              "\t<tr><td>40</td><td>22163</td><td>FURNISH (region)                               </td><td>31</td><td>1</td></tr>\n",
              "\t<tr><td>40</td><td>21449</td><td>THE Keeper OF THE MOON                         </td><td>33</td><td>2</td></tr>\n",
              "</tbody>\n",
              "</table>\n"
            ],
            "text/markdown": "\nA grouped_df: 4714 × 5\n\n| category_id &lt;int&gt; | item_id &lt;int&gt; | item_name &lt;chr&gt; | date_block_num &lt;int&gt; | item_cnt_day.x &lt;dbl&gt; |\n|---|---|---|---|---|\n| 40 |    30 | 007: COORDINATES \"SKYFOLL\"                         |  1 | -1 |\n| 40 |   934 | 2 STARS                                            | 15 | -1 |\n| 40 |  4380 | LEGO STAR WARS OF EMPIRE IMPOSES IMPACT            | 14 | -1 |\n| 40 |  8100 | AUGUST                                             | 17 | -1 |\n| 40 |  8388 | ASTERICS AND OBELIX IN BRITAIN                     |  4 | -1 |\n| 40 |  8585 | BAKUGAN. ISSUE 4. EPISODES 21-26                   |  0 | -1 |\n| 40 |  8628 | BARBIE AND THREE MUSHROOMS (region)                |  4 | -1 |\n| 40 |  8647 | BARBIE: PRINCESS AND POP-STAR (region)             |  1 | -1 |\n| 40 |  8740 | THE UNKNOWN STAR (region)                          |  8 | -1 |\n| 40 |  8775 | WHITE ELEPHANT                                     |  0 | -1 |\n| 40 |  8843 | WROIT. CINEMA WITHOUT BORDERS                      |  7 | -1 |\n| 40 |  8913 | BLINDAŽ (region)                                   |  1 | -1 |\n| 40 |  8948 | PAIN WITHOUT RIGHT                                 |  9 | -1 |\n| 40 |  8971 | GREAT CHANGE 1-2 (region)                          | 21 | -1 |\n| 40 |  9043 | THE BRIGADE. HEIR                                  |  1 | -1 |\n| 40 |  9507 | SEARCH FOR NEMO (region)                           | 18 | -1 |\n| 40 |  9511 | In the HEART RHYTHM (region)                       |  0 | -1 |\n| 40 |  9589 | UP (region)                                        | 19 | -1 |\n| 40 |  9705 | BBC: PLANET OF PEOPLE (4 DVDs)                     |  0 | -1 |\n| 40 |  9842 | SPRING IN THE NURSERY STREET (region)              | 16 | -1 |\n| 40 |  9855 | VIVA, GARDEMARINS! (rem)                           | 26 | -1 |\n| 40 |  9921 | LOVE                                               |  5 | -1 |\n| 40 |  9940 | MILITARY INTELLIGENCE 2: THE FIRST IMPACT (region) |  1 | -1 |\n| 40 |  9943 | MILITARY INTELLIGENCE: NORTH FRONT (region)        |  1 | -1 |\n| 40 | 10004 | WIZARD OF EMERALD CITY sb.m / f (region)           | 19 | -1 |\n| 40 | 10096 | UNIVERSE. 7 MIRACLES OF THE SOLAR SYSTEM           | 12 | -1 |\n| 40 | 10292 | DESPICABLE ME                                      | 24 | -1 |\n| 40 | 10298 | DESPICABLE ME 2                                    | 12 | -1 |\n| 40 | 10314 | HERE 3 (rem)                                       | 26 | -1 |\n| 40 | 10318 | GARDEMARINES, FORWARD! (1-2 SERIES) (rem)          | 26 | -1 |\n| ⋮ | ⋮ | ⋮ | ⋮ | ⋮ |\n| 40 | 22108 | YUNONA AND AVOS (N.Karachentsov)                |  2 | 1 |\n| 40 | 22114 | I WILL BE NEAR                                  |  3 | 1 |\n| 40 | 22116 | I AND MONIKA VELIUR                             |  2 | 1 |\n| 40 | 22119 | I DO NOT KNOW HOW IT DOES IT (region)           |  1 | 1 |\n| 40 | 22120 | I AM NORMALLY SUPER GOOD (region)               |  3 | 1 |\n| 40 | 22121 | I'm VERY EXCITED                                |  6 | 1 |\n| 40 | 22123 | I AM VERY EXCITED (region)                      |  9 | 1 |\n| 40 | 22124 | I SPIT ON YOUR GRAVE                            |  0 | 1 |\n| 40 | 22126 | I PIG ON YOUR TREASURE 2                        |  9 | 1 |\n| 40 | 22128 | I'm SAM (region)                                |  0 | 1 |\n| 40 | 22129 | I ALSO                                          |  0 | 1 |\n| 40 | 22130 | I ALSO WANT TO                                  |  0 | 1 |\n| 40 | 22132 | I ALSO WANT TO (region)                         |  2 | 1 |\n| 40 | 22133 | I STEP BY MOSCOW (region)                       | 13 | 1 |\n| 40 | 22134 | I, ALEX CROSS                                   |  0 | 1 |\n| 40 | 22136 | I, ALEX CROSS (region)                          |  2 | 1 |\n| 40 | 22141 | Me, AGAIN AND MOM                               | 13 | 1 |\n| 40 | 22143 | I AM FRANKENSTEIN                               | 14 | 1 |\n| 40 | 22147 | I-LEGEND WB (region)                            |  0 | 1 |\n| 40 | 22148 | I-FOURTH WD                                     |  6 | 1 |\n| 40 | 22149 | I-FOURTH WD (Region)                            |  0 | 1 |\n| 40 | 22151 | SCENE (2012)                                    |  0 | 1 |\n| 40 | 22152 | SCENE (2012) (region)                           |  2 | 1 |\n| 40 | 22156 | POISONS, OR WORLD HISTORY OF POISONING (region) |  4 | 1 |\n| 40 | 22157 | YALTA 45                                        |  4 | 1 |\n| 40 | 22159 | YANKOVSKY                                       | 28 | 1 |\n| 40 | 22160 | FAIR OF FAIRY (Region)                          |  0 | 1 |\n| 40 | 22162 | THE FATHER                                      | 25 | 1 |\n| 40 | 22163 | FURNISH (region)                                | 31 | 1 |\n| 40 | 21449 | THE Keeper OF THE MOON                          | 33 | 2 |\n\n",
            "text/latex": "A grouped\\_df: 4714 × 5\n\\begin{tabular}{lllll}\n category\\_id & item\\_id & item\\_name & date\\_block\\_num & item\\_cnt\\_day.x\\\\\n <int> & <int> & <chr> & <int> & <dbl>\\\\\n\\hline\n\t 40 &    30 & 007: COORDINATES \"SKYFOLL\"                         &  1 & -1\\\\\n\t 40 &   934 & 2 STARS                                            & 15 & -1\\\\\n\t 40 &  4380 & LEGO STAR WARS OF EMPIRE IMPOSES IMPACT            & 14 & -1\\\\\n\t 40 &  8100 & AUGUST                                             & 17 & -1\\\\\n\t 40 &  8388 & ASTERICS AND OBELIX IN BRITAIN                     &  4 & -1\\\\\n\t 40 &  8585 & BAKUGAN. ISSUE 4. EPISODES 21-26                   &  0 & -1\\\\\n\t 40 &  8628 & BARBIE AND THREE MUSHROOMS (region)                &  4 & -1\\\\\n\t 40 &  8647 & BARBIE: PRINCESS AND POP-STAR (region)             &  1 & -1\\\\\n\t 40 &  8740 & THE UNKNOWN STAR (region)                          &  8 & -1\\\\\n\t 40 &  8775 & WHITE ELEPHANT                                     &  0 & -1\\\\\n\t 40 &  8843 & WROIT. CINEMA WITHOUT BORDERS                      &  7 & -1\\\\\n\t 40 &  8913 & BLINDAŽ (region)                                   &  1 & -1\\\\\n\t 40 &  8948 & PAIN WITHOUT RIGHT                                 &  9 & -1\\\\\n\t 40 &  8971 & GREAT CHANGE 1-2 (region)                          & 21 & -1\\\\\n\t 40 &  9043 & THE BRIGADE. HEIR                                  &  1 & -1\\\\\n\t 40 &  9507 & SEARCH FOR NEMO (region)                           & 18 & -1\\\\\n\t 40 &  9511 & In the HEART RHYTHM (region)                       &  0 & -1\\\\\n\t 40 &  9589 & UP (region)                                        & 19 & -1\\\\\n\t 40 &  9705 & BBC: PLANET OF PEOPLE (4 DVDs)                     &  0 & -1\\\\\n\t 40 &  9842 & SPRING IN THE NURSERY STREET (region)              & 16 & -1\\\\\n\t 40 &  9855 & VIVA, GARDEMARINS! (rem)                           & 26 & -1\\\\\n\t 40 &  9921 & LOVE                                               &  5 & -1\\\\\n\t 40 &  9940 & MILITARY INTELLIGENCE 2: THE FIRST IMPACT (region) &  1 & -1\\\\\n\t 40 &  9943 & MILITARY INTELLIGENCE: NORTH FRONT (region)        &  1 & -1\\\\\n\t 40 & 10004 & WIZARD OF EMERALD CITY sb.m / f (region)           & 19 & -1\\\\\n\t 40 & 10096 & UNIVERSE. 7 MIRACLES OF THE SOLAR SYSTEM           & 12 & -1\\\\\n\t 40 & 10292 & DESPICABLE ME                                      & 24 & -1\\\\\n\t 40 & 10298 & DESPICABLE ME 2                                    & 12 & -1\\\\\n\t 40 & 10314 & HERE 3 (rem)                                       & 26 & -1\\\\\n\t 40 & 10318 & GARDEMARINES, FORWARD! (1-2 SERIES) (rem)          & 26 & -1\\\\\n\t ⋮ & ⋮ & ⋮ & ⋮ & ⋮\\\\\n\t 40 & 22108 & YUNONA AND AVOS (N.Karachentsov)                &  2 & 1\\\\\n\t 40 & 22114 & I WILL BE NEAR                                  &  3 & 1\\\\\n\t 40 & 22116 & I AND MONIKA VELIUR                             &  2 & 1\\\\\n\t 40 & 22119 & I DO NOT KNOW HOW IT DOES IT (region)           &  1 & 1\\\\\n\t 40 & 22120 & I AM NORMALLY SUPER GOOD (region)               &  3 & 1\\\\\n\t 40 & 22121 & I'm VERY EXCITED                                &  6 & 1\\\\\n\t 40 & 22123 & I AM VERY EXCITED (region)                      &  9 & 1\\\\\n\t 40 & 22124 & I SPIT ON YOUR GRAVE                            &  0 & 1\\\\\n\t 40 & 22126 & I PIG ON YOUR TREASURE 2                        &  9 & 1\\\\\n\t 40 & 22128 & I'm SAM (region)                                &  0 & 1\\\\\n\t 40 & 22129 & I ALSO                                          &  0 & 1\\\\\n\t 40 & 22130 & I ALSO WANT TO                                  &  0 & 1\\\\\n\t 40 & 22132 & I ALSO WANT TO (region)                         &  2 & 1\\\\\n\t 40 & 22133 & I STEP BY MOSCOW (region)                       & 13 & 1\\\\\n\t 40 & 22134 & I, ALEX CROSS                                   &  0 & 1\\\\\n\t 40 & 22136 & I, ALEX CROSS (region)                          &  2 & 1\\\\\n\t 40 & 22141 & Me, AGAIN AND MOM                               & 13 & 1\\\\\n\t 40 & 22143 & I AM FRANKENSTEIN                               & 14 & 1\\\\\n\t 40 & 22147 & I-LEGEND WB (region)                            &  0 & 1\\\\\n\t 40 & 22148 & I-FOURTH WD                                     &  6 & 1\\\\\n\t 40 & 22149 & I-FOURTH WD (Region)                            &  0 & 1\\\\\n\t 40 & 22151 & SCENE (2012)                                    &  0 & 1\\\\\n\t 40 & 22152 & SCENE (2012) (region)                           &  2 & 1\\\\\n\t 40 & 22156 & POISONS, OR WORLD HISTORY OF POISONING (region) &  4 & 1\\\\\n\t 40 & 22157 & YALTA 45                                        &  4 & 1\\\\\n\t 40 & 22159 & YANKOVSKY                                       & 28 & 1\\\\\n\t 40 & 22160 & FAIR OF FAIRY (Region)                          &  0 & 1\\\\\n\t 40 & 22162 & THE FATHER                                      & 25 & 1\\\\\n\t 40 & 22163 & FURNISH (region)                                & 31 & 1\\\\\n\t 40 & 21449 & THE Keeper OF THE MOON                          & 33 & 2\\\\\n\\end{tabular}\n",
            "text/plain": [
              "     category_id item_id item_name                                         \n",
              "1    40             30   007: COORDINATES \"SKYFOLL\"                        \n",
              "2    40            934   2 STARS                                           \n",
              "3    40           4380   LEGO STAR WARS OF EMPIRE IMPOSES IMPACT           \n",
              "4    40           8100   AUGUST                                            \n",
              "5    40           8388   ASTERICS AND OBELIX IN BRITAIN                    \n",
              "6    40           8585   BAKUGAN. ISSUE 4. EPISODES 21-26                  \n",
              "7    40           8628   BARBIE AND THREE MUSHROOMS (region)               \n",
              "8    40           8647   BARBIE: PRINCESS AND POP-STAR (region)            \n",
              "9    40           8740   THE UNKNOWN STAR (region)                         \n",
              "10   40           8775   WHITE ELEPHANT                                    \n",
              "11   40           8843   WROIT. CINEMA WITHOUT BORDERS                     \n",
              "12   40           8913   BLINDAŽ (region)                                  \n",
              "13   40           8948   PAIN WITHOUT RIGHT                                \n",
              "14   40           8971   GREAT CHANGE 1-2 (region)                         \n",
              "15   40           9043   THE BRIGADE. HEIR                                 \n",
              "16   40           9507   SEARCH FOR NEMO (region)                          \n",
              "17   40           9511   In the HEART RHYTHM (region)                      \n",
              "18   40           9589   UP (region)                                       \n",
              "19   40           9705   BBC: PLANET OF PEOPLE (4 DVDs)                    \n",
              "20   40           9842   SPRING IN THE NURSERY STREET (region)             \n",
              "21   40           9855   VIVA, GARDEMARINS! (rem)                          \n",
              "22   40           9921   LOVE                                              \n",
              "23   40           9940   MILITARY INTELLIGENCE 2: THE FIRST IMPACT (region)\n",
              "24   40           9943   MILITARY INTELLIGENCE: NORTH FRONT (region)       \n",
              "25   40          10004   WIZARD OF EMERALD CITY sb.m / f (region)          \n",
              "26   40          10096   UNIVERSE. 7 MIRACLES OF THE SOLAR SYSTEM          \n",
              "27   40          10292   DESPICABLE ME                                     \n",
              "28   40          10298   DESPICABLE ME 2                                   \n",
              "29   40          10314   HERE 3 (rem)                                      \n",
              "30   40          10318   GARDEMARINES, FORWARD! (1-2 SERIES) (rem)         \n",
              "⋮    ⋮           ⋮       ⋮                                                 \n",
              "4685 40          22108   YUNONA AND AVOS (N.Karachentsov)                  \n",
              "4686 40          22114   I WILL BE NEAR                                    \n",
              "4687 40          22116   I AND MONIKA VELIUR                               \n",
              "4688 40          22119   I DO NOT KNOW HOW IT DOES IT (region)             \n",
              "4689 40          22120   I AM NORMALLY SUPER GOOD (region)                 \n",
              "4690 40          22121   I'm VERY EXCITED                                  \n",
              "4691 40          22123   I AM VERY EXCITED (region)                        \n",
              "4692 40          22124   I SPIT ON YOUR GRAVE                              \n",
              "4693 40          22126   I PIG ON YOUR TREASURE 2                          \n",
              "4694 40          22128   I'm SAM (region)                                  \n",
              "4695 40          22129   I ALSO                                            \n",
              "4696 40          22130   I ALSO WANT TO                                    \n",
              "4697 40          22132   I ALSO WANT TO (region)                           \n",
              "4698 40          22133   I STEP BY MOSCOW (region)                         \n",
              "4699 40          22134   I, ALEX CROSS                                     \n",
              "4700 40          22136   I, ALEX CROSS (region)                            \n",
              "4701 40          22141   Me, AGAIN AND MOM                                 \n",
              "4702 40          22143   I AM FRANKENSTEIN                                 \n",
              "4703 40          22147   I-LEGEND WB (region)                              \n",
              "4704 40          22148   I-FOURTH WD                                       \n",
              "4705 40          22149   I-FOURTH WD (Region)                              \n",
              "4706 40          22151   SCENE (2012)                                      \n",
              "4707 40          22152   SCENE (2012) (region)                             \n",
              "4708 40          22156   POISONS, OR WORLD HISTORY OF POISONING (region)   \n",
              "4709 40          22157   YALTA 45                                          \n",
              "4710 40          22159   YANKOVSKY                                         \n",
              "4711 40          22160   FAIR OF FAIRY (Region)                            \n",
              "4712 40          22162   THE FATHER                                        \n",
              "4713 40          22163   FURNISH (region)                                  \n",
              "4714 40          21449   THE Keeper OF THE MOON                            \n",
              "     date_block_num item_cnt_day.x\n",
              "1     1             -1            \n",
              "2    15             -1            \n",
              "3    14             -1            \n",
              "4    17             -1            \n",
              "5     4             -1            \n",
              "6     0             -1            \n",
              "7     4             -1            \n",
              "8     1             -1            \n",
              "9     8             -1            \n",
              "10    0             -1            \n",
              "11    7             -1            \n",
              "12    1             -1            \n",
              "13    9             -1            \n",
              "14   21             -1            \n",
              "15    1             -1            \n",
              "16   18             -1            \n",
              "17    0             -1            \n",
              "18   19             -1            \n",
              "19    0             -1            \n",
              "20   16             -1            \n",
              "21   26             -1            \n",
              "22    5             -1            \n",
              "23    1             -1            \n",
              "24    1             -1            \n",
              "25   19             -1            \n",
              "26   12             -1            \n",
              "27   24             -1            \n",
              "28   12             -1            \n",
              "29   26             -1            \n",
              "30   26             -1            \n",
              "⋮    ⋮              ⋮             \n",
              "4685  2             1             \n",
              "4686  3             1             \n",
              "4687  2             1             \n",
              "4688  1             1             \n",
              "4689  3             1             \n",
              "4690  6             1             \n",
              "4691  9             1             \n",
              "4692  0             1             \n",
              "4693  9             1             \n",
              "4694  0             1             \n",
              "4695  0             1             \n",
              "4696  0             1             \n",
              "4697  2             1             \n",
              "4698 13             1             \n",
              "4699  0             1             \n",
              "4700  2             1             \n",
              "4701 13             1             \n",
              "4702 14             1             \n",
              "4703  0             1             \n",
              "4704  6             1             \n",
              "4705  0             1             \n",
              "4706  0             1             \n",
              "4707  2             1             \n",
              "4708  4             1             \n",
              "4709  4             1             \n",
              "4710 28             1             \n",
              "4711  0             1             \n",
              "4712 25             1             \n",
              "4713 31             1             \n",
              "4714 33             2             "
            ]
          },
          "metadata": {}
        }
      ]
    },
    {
      "cell_type": "markdown",
      "source": [
        "# Задание 4"
      ],
      "metadata": {
        "id": "d11G2DP4KLUy"
      }
    },
    {
      "cell_type": "markdown",
      "source": [
        "1. Для категорий из задания 2 найдите среднюю и медианную цену по категории в пределах каждого месяца.\n",
        "2. В каждом году найдите месяцы, в которых средняя цена меньше, чем в предыдущем и следующем месяце."
      ],
      "metadata": {
        "id": "RX3FC6lbKLUz"
      }
    },
    {
      "cell_type": "markdown",
      "source": [
        "Выполнение пункта 1"
      ],
      "metadata": {
        "id": "18YhmfOvKaq8"
      }
    },
    {
      "cell_type": "code",
      "source": [
        "only_items_10_51 <- merge(min_category, sales_train_super_merged, by='category_id')\n",
        "only_items_40 <- merge(max_category, sales_train_super_merged, by='category_id')\n",
        "grouped_only_items_10_51 <- only_items_10_51%>%\n",
        "                            group_by(category_id, date_block_num) %>%\n",
        "                            summarise(item_averege_price = mean(item_price),\n",
        "                                      item_median_price = median(item_price))\n",
        "grouped_only_items_40 <- only_items_40%>%\n",
        "                            group_by(category_id, date_block_num) %>%\n",
        "                            summarise(item_averege_price = mean(item_price),\n",
        "                            item_median_price = median(item_price))\n",
        "df1 = grouped_only_items_10_51\n",
        "df1\n",
        "df2 = grouped_only_items_40\n",
        "df2"
      ],
      "metadata": {
        "colab": {
          "base_uri": "https://localhost:8080/",
          "height": 1000
        },
        "id": "dq_tw69_D9SW",
        "outputId": "b29af931-7ea7-47c5-e194-e1290f50877d"
      },
      "execution_count": null,
      "outputs": [
        {
          "output_type": "stream",
          "name": "stderr",
          "text": [
            "\u001b[1m\u001b[22m`summarise()` has grouped output by 'category_id'. You can override using the\n",
            "`.groups` argument.\n",
            "\u001b[1m\u001b[22m`summarise()` has grouped output by 'category_id'. You can override using the\n",
            "`.groups` argument.\n"
          ]
        },
        {
          "output_type": "display_data",
          "data": {
            "text/html": [
              "<table class=\"dataframe\">\n",
              "<caption>A grouped_df: 2 × 4</caption>\n",
              "<thead>\n",
              "\t<tr><th scope=col>category_id</th><th scope=col>date_block_num</th><th scope=col>item_averege_price</th><th scope=col>item_median_price</th></tr>\n",
              "\t<tr><th scope=col>&lt;int&gt;</th><th scope=col>&lt;int&gt;</th><th scope=col>&lt;dbl&gt;</th><th scope=col>&lt;dbl&gt;</th></tr>\n",
              "</thead>\n",
              "<tbody>\n",
              "\t<tr><td>10</td><td> 3</td><td>1998</td><td>1998</td></tr>\n",
              "\t<tr><td>51</td><td>18</td><td> 129</td><td> 129</td></tr>\n",
              "</tbody>\n",
              "</table>\n"
            ],
            "text/markdown": "\nA grouped_df: 2 × 4\n\n| category_id &lt;int&gt; | date_block_num &lt;int&gt; | item_averege_price &lt;dbl&gt; | item_median_price &lt;dbl&gt; |\n|---|---|---|---|\n| 10 |  3 | 1998 | 1998 |\n| 51 | 18 |  129 |  129 |\n\n",
            "text/latex": "A grouped\\_df: 2 × 4\n\\begin{tabular}{llll}\n category\\_id & date\\_block\\_num & item\\_averege\\_price & item\\_median\\_price\\\\\n <int> & <int> & <dbl> & <dbl>\\\\\n\\hline\n\t 10 &  3 & 1998 & 1998\\\\\n\t 51 & 18 &  129 &  129\\\\\n\\end{tabular}\n",
            "text/plain": [
              "  category_id date_block_num item_averege_price item_median_price\n",
              "1 10           3             1998               1998             \n",
              "2 51          18              129                129             "
            ]
          },
          "metadata": {}
        },
        {
          "output_type": "display_data",
          "data": {
            "text/html": [
              "<table class=\"dataframe\">\n",
              "<caption>A grouped_df: 34 × 4</caption>\n",
              "<thead>\n",
              "\t<tr><th scope=col>category_id</th><th scope=col>date_block_num</th><th scope=col>item_averege_price</th><th scope=col>item_median_price</th></tr>\n",
              "\t<tr><th scope=col>&lt;int&gt;</th><th scope=col>&lt;int&gt;</th><th scope=col>&lt;dbl&gt;</th><th scope=col>&lt;dbl&gt;</th></tr>\n",
              "</thead>\n",
              "<tbody>\n",
              "\t<tr><td>40</td><td> 0</td><td>244.4859</td><td>199.00</td></tr>\n",
              "\t<tr><td>40</td><td> 1</td><td>252.1749</td><td>203.00</td></tr>\n",
              "\t<tr><td>40</td><td> 2</td><td>260.6450</td><td>231.00</td></tr>\n",
              "\t<tr><td>40</td><td> 3</td><td>254.8524</td><td>199.00</td></tr>\n",
              "\t<tr><td>40</td><td> 4</td><td>247.6276</td><td>199.00</td></tr>\n",
              "\t<tr><td>40</td><td> 5</td><td>245.8609</td><td>199.00</td></tr>\n",
              "\t<tr><td>40</td><td> 6</td><td>236.8121</td><td>149.00</td></tr>\n",
              "\t<tr><td>40</td><td> 7</td><td>234.4702</td><td>149.00</td></tr>\n",
              "\t<tr><td>40</td><td> 8</td><td>241.8186</td><td>198.00</td></tr>\n",
              "\t<tr><td>40</td><td> 9</td><td>247.5439</td><td>199.00</td></tr>\n",
              "\t<tr><td>40</td><td>10</td><td>253.2127</td><td>199.00</td></tr>\n",
              "\t<tr><td>40</td><td>11</td><td>257.7663</td><td>237.00</td></tr>\n",
              "\t<tr><td>40</td><td>12</td><td>252.9098</td><td>199.00</td></tr>\n",
              "\t<tr><td>40</td><td>13</td><td>261.2565</td><td>248.00</td></tr>\n",
              "\t<tr><td>40</td><td>14</td><td>262.4360</td><td>251.00</td></tr>\n",
              "\t<tr><td>40</td><td>15</td><td>268.4081</td><td>249.00</td></tr>\n",
              "\t<tr><td>40</td><td>16</td><td>254.3645</td><td>199.00</td></tr>\n",
              "\t<tr><td>40</td><td>17</td><td>255.1581</td><td>199.00</td></tr>\n",
              "\t<tr><td>40</td><td>18</td><td>257.3948</td><td>199.00</td></tr>\n",
              "\t<tr><td>40</td><td>19</td><td>264.0901</td><td>199.00</td></tr>\n",
              "\t<tr><td>40</td><td>20</td><td>265.3885</td><td>240.00</td></tr>\n",
              "\t<tr><td>40</td><td>21</td><td>263.7517</td><td>199.00</td></tr>\n",
              "\t<tr><td>40</td><td>22</td><td>264.0330</td><td>199.00</td></tr>\n",
              "\t<tr><td>40</td><td>23</td><td>261.9187</td><td>199.00</td></tr>\n",
              "\t<tr><td>40</td><td>24</td><td>263.2980</td><td>200.78</td></tr>\n",
              "\t<tr><td>40</td><td>25</td><td>256.3624</td><td>199.00</td></tr>\n",
              "\t<tr><td>40</td><td>26</td><td>258.1940</td><td>169.00</td></tr>\n",
              "\t<tr><td>40</td><td>27</td><td>281.6307</td><td>299.00</td></tr>\n",
              "\t<tr><td>40</td><td>28</td><td>286.5086</td><td>299.00</td></tr>\n",
              "\t<tr><td>40</td><td>29</td><td>279.1423</td><td>249.00</td></tr>\n",
              "\t<tr><td>40</td><td>30</td><td>273.2515</td><td>199.00</td></tr>\n",
              "\t<tr><td>40</td><td>31</td><td>273.2421</td><td>249.00</td></tr>\n",
              "\t<tr><td>40</td><td>32</td><td>279.3937</td><td>249.00</td></tr>\n",
              "\t<tr><td>40</td><td>33</td><td>281.0002</td><td>249.00</td></tr>\n",
              "</tbody>\n",
              "</table>\n"
            ],
            "text/markdown": "\nA grouped_df: 34 × 4\n\n| category_id &lt;int&gt; | date_block_num &lt;int&gt; | item_averege_price &lt;dbl&gt; | item_median_price &lt;dbl&gt; |\n|---|---|---|---|\n| 40 |  0 | 244.4859 | 199.00 |\n| 40 |  1 | 252.1749 | 203.00 |\n| 40 |  2 | 260.6450 | 231.00 |\n| 40 |  3 | 254.8524 | 199.00 |\n| 40 |  4 | 247.6276 | 199.00 |\n| 40 |  5 | 245.8609 | 199.00 |\n| 40 |  6 | 236.8121 | 149.00 |\n| 40 |  7 | 234.4702 | 149.00 |\n| 40 |  8 | 241.8186 | 198.00 |\n| 40 |  9 | 247.5439 | 199.00 |\n| 40 | 10 | 253.2127 | 199.00 |\n| 40 | 11 | 257.7663 | 237.00 |\n| 40 | 12 | 252.9098 | 199.00 |\n| 40 | 13 | 261.2565 | 248.00 |\n| 40 | 14 | 262.4360 | 251.00 |\n| 40 | 15 | 268.4081 | 249.00 |\n| 40 | 16 | 254.3645 | 199.00 |\n| 40 | 17 | 255.1581 | 199.00 |\n| 40 | 18 | 257.3948 | 199.00 |\n| 40 | 19 | 264.0901 | 199.00 |\n| 40 | 20 | 265.3885 | 240.00 |\n| 40 | 21 | 263.7517 | 199.00 |\n| 40 | 22 | 264.0330 | 199.00 |\n| 40 | 23 | 261.9187 | 199.00 |\n| 40 | 24 | 263.2980 | 200.78 |\n| 40 | 25 | 256.3624 | 199.00 |\n| 40 | 26 | 258.1940 | 169.00 |\n| 40 | 27 | 281.6307 | 299.00 |\n| 40 | 28 | 286.5086 | 299.00 |\n| 40 | 29 | 279.1423 | 249.00 |\n| 40 | 30 | 273.2515 | 199.00 |\n| 40 | 31 | 273.2421 | 249.00 |\n| 40 | 32 | 279.3937 | 249.00 |\n| 40 | 33 | 281.0002 | 249.00 |\n\n",
            "text/latex": "A grouped\\_df: 34 × 4\n\\begin{tabular}{llll}\n category\\_id & date\\_block\\_num & item\\_averege\\_price & item\\_median\\_price\\\\\n <int> & <int> & <dbl> & <dbl>\\\\\n\\hline\n\t 40 &  0 & 244.4859 & 199.00\\\\\n\t 40 &  1 & 252.1749 & 203.00\\\\\n\t 40 &  2 & 260.6450 & 231.00\\\\\n\t 40 &  3 & 254.8524 & 199.00\\\\\n\t 40 &  4 & 247.6276 & 199.00\\\\\n\t 40 &  5 & 245.8609 & 199.00\\\\\n\t 40 &  6 & 236.8121 & 149.00\\\\\n\t 40 &  7 & 234.4702 & 149.00\\\\\n\t 40 &  8 & 241.8186 & 198.00\\\\\n\t 40 &  9 & 247.5439 & 199.00\\\\\n\t 40 & 10 & 253.2127 & 199.00\\\\\n\t 40 & 11 & 257.7663 & 237.00\\\\\n\t 40 & 12 & 252.9098 & 199.00\\\\\n\t 40 & 13 & 261.2565 & 248.00\\\\\n\t 40 & 14 & 262.4360 & 251.00\\\\\n\t 40 & 15 & 268.4081 & 249.00\\\\\n\t 40 & 16 & 254.3645 & 199.00\\\\\n\t 40 & 17 & 255.1581 & 199.00\\\\\n\t 40 & 18 & 257.3948 & 199.00\\\\\n\t 40 & 19 & 264.0901 & 199.00\\\\\n\t 40 & 20 & 265.3885 & 240.00\\\\\n\t 40 & 21 & 263.7517 & 199.00\\\\\n\t 40 & 22 & 264.0330 & 199.00\\\\\n\t 40 & 23 & 261.9187 & 199.00\\\\\n\t 40 & 24 & 263.2980 & 200.78\\\\\n\t 40 & 25 & 256.3624 & 199.00\\\\\n\t 40 & 26 & 258.1940 & 169.00\\\\\n\t 40 & 27 & 281.6307 & 299.00\\\\\n\t 40 & 28 & 286.5086 & 299.00\\\\\n\t 40 & 29 & 279.1423 & 249.00\\\\\n\t 40 & 30 & 273.2515 & 199.00\\\\\n\t 40 & 31 & 273.2421 & 249.00\\\\\n\t 40 & 32 & 279.3937 & 249.00\\\\\n\t 40 & 33 & 281.0002 & 249.00\\\\\n\\end{tabular}\n",
            "text/plain": [
              "   category_id date_block_num item_averege_price item_median_price\n",
              "1  40           0             244.4859           199.00           \n",
              "2  40           1             252.1749           203.00           \n",
              "3  40           2             260.6450           231.00           \n",
              "4  40           3             254.8524           199.00           \n",
              "5  40           4             247.6276           199.00           \n",
              "6  40           5             245.8609           199.00           \n",
              "7  40           6             236.8121           149.00           \n",
              "8  40           7             234.4702           149.00           \n",
              "9  40           8             241.8186           198.00           \n",
              "10 40           9             247.5439           199.00           \n",
              "11 40          10             253.2127           199.00           \n",
              "12 40          11             257.7663           237.00           \n",
              "13 40          12             252.9098           199.00           \n",
              "14 40          13             261.2565           248.00           \n",
              "15 40          14             262.4360           251.00           \n",
              "16 40          15             268.4081           249.00           \n",
              "17 40          16             254.3645           199.00           \n",
              "18 40          17             255.1581           199.00           \n",
              "19 40          18             257.3948           199.00           \n",
              "20 40          19             264.0901           199.00           \n",
              "21 40          20             265.3885           240.00           \n",
              "22 40          21             263.7517           199.00           \n",
              "23 40          22             264.0330           199.00           \n",
              "24 40          23             261.9187           199.00           \n",
              "25 40          24             263.2980           200.78           \n",
              "26 40          25             256.3624           199.00           \n",
              "27 40          26             258.1940           169.00           \n",
              "28 40          27             281.6307           299.00           \n",
              "29 40          28             286.5086           299.00           \n",
              "30 40          29             279.1423           249.00           \n",
              "31 40          30             273.2515           199.00           \n",
              "32 40          31             273.2421           249.00           \n",
              "33 40          32             279.3937           249.00           \n",
              "34 40          33             281.0002           249.00           "
            ]
          },
          "metadata": {}
        }
      ]
    },
    {
      "cell_type": "markdown",
      "source": [
        "Выполнение пункта 2"
      ],
      "metadata": {
        "id": "6H0pP1OMKepd"
      }
    },
    {
      "cell_type": "code",
      "source": [
        "#в категориях с наименьшими продажами по одному товару, каждый из которых был продан 1 раз, поэтому нет месяцев,\n",
        "#в которых средняя цена в категории была бы меньше, чем в предыдущем и следующем\n",
        "arr_2013 <- c()\n",
        "arr_2014 <- c()\n",
        "arr_2015 <- c()\n",
        "for (i in 1:(nrow(df2) - 2)){\n",
        "  if (df2$item_averege_price[i+1] < df2$item_averege_price[i] & df2$item_averege_price[i+1] < df2$item_averege_price[i+2]){\n",
        "      if (df2$date_block_num[i+1] < 12){arr_2013 <- c(arr_2013, df2$date_block_num[i+1])}\n",
        "      if (df2$date_block_num[i+1] < 24 & df2$date_block_num[i+1] > 11){arr_2014 <- c(arr_2014, df2$date_block_num[i+1])}\n",
        "      if (df2$date_block_num[i+1] > 23){arr_2015 <- c(arr_2015, df2$date_block_num[i+1])}\n",
        "    }\n",
        "  } \n",
        "arr_2013\n",
        "arr_2014 \n",
        "arr_2015\n"
      ],
      "metadata": {
        "colab": {
          "base_uri": "https://localhost:8080/",
          "height": 69
        },
        "id": "1Q-7ZxBBIA9b",
        "outputId": "be33ba8d-bb7e-40d7-b136-2a390786e2eb"
      },
      "execution_count": null,
      "outputs": [
        {
          "output_type": "display_data",
          "data": {
            "text/html": [
              "7"
            ],
            "text/markdown": "7",
            "text/latex": "7",
            "text/plain": [
              "[1] 7"
            ]
          },
          "metadata": {}
        },
        {
          "output_type": "display_data",
          "data": {
            "text/html": [
              "<style>\n",
              ".list-inline {list-style: none; margin:0; padding: 0}\n",
              ".list-inline>li {display: inline-block}\n",
              ".list-inline>li:not(:last-child)::after {content: \"\\00b7\"; padding: 0 .5ex}\n",
              "</style>\n",
              "<ol class=list-inline><li>12</li><li>16</li><li>21</li><li>23</li></ol>\n"
            ],
            "text/markdown": "1. 12\n2. 16\n3. 21\n4. 23\n\n\n",
            "text/latex": "\\begin{enumerate*}\n\\item 12\n\\item 16\n\\item 21\n\\item 23\n\\end{enumerate*}\n",
            "text/plain": [
              "[1] 12 16 21 23"
            ]
          },
          "metadata": {}
        },
        {
          "output_type": "display_data",
          "data": {
            "text/html": [
              "<style>\n",
              ".list-inline {list-style: none; margin:0; padding: 0}\n",
              ".list-inline>li {display: inline-block}\n",
              ".list-inline>li:not(:last-child)::after {content: \"\\00b7\"; padding: 0 .5ex}\n",
              "</style>\n",
              "<ol class=list-inline><li>25</li><li>31</li></ol>\n"
            ],
            "text/markdown": "1. 25\n2. 31\n\n\n",
            "text/latex": "\\begin{enumerate*}\n\\item 25\n\\item 31\n\\end{enumerate*}\n",
            "text/plain": [
              "[1] 25 31"
            ]
          },
          "metadata": {}
        }
      ]
    }
  ]
}